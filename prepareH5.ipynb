{
 "cells": [
  {
   "cell_type": "code",
   "execution_count": 1,
   "metadata": {
    "collapsed": false
   },
   "outputs": [],
   "source": [
    "import os\n",
    "from dataLoader import fc7FrameSequenceGenerator\n",
    "from hdf5_npstreamsequence_generator import HDF5SequenceWriter"
   ]
  },
  {
   "cell_type": "code",
   "execution_count": 2,
   "metadata": {
    "collapsed": true
   },
   "outputs": [],
   "source": [
    "# start every sentence in a new array, pad if <max\n",
    "MAX_WORDS = 100 # 80  # max length of whole sequence\n",
    "BUFFER_SIZE = 32 # number of streams for a batch of data\n",
    "\n",
    "BATCH_STREAM_LENGTH = 1000  # length for a stream of data \n",
    "SETTING = '/data/gengshan/pose_s2vt'\n",
    "FRAMEFEAT_FILE_PATTERN = SETTING + '/splits/dataCsv_{0}.txt'\n",
    "SENTS_FILE_PATTERN = SETTING + '/splits/dataTsv_{0}.txt'  # input paths\n",
    "\n",
    "OUTPUT_DIR = '{0}/hdf5/buffer_{1}_s2vt_{2}'.format(SETTING, BUFFER_SIZE, MAX_WORDS)\n",
    "OUTPUT_DIR_PATTERN = '%s/%%s_batches' % OUTPUT_DIR\n",
    "VOCAB = '%s/vocabulary.txt' % SETTING\n",
    "\n",
    "OUT_FILE_PATTERN = SETTING + '/rawcorpus/{0}/s2vt_vgg_{0}_sequence.txt'\n",
    "OUT_CORPUS_PATH = SETTING + '/rawcorpus/{0}'\n",
    "\n",
    "def preprocess_dataset(split_name, data_split_name, batch_stream_length,\n",
    "                      aligned=False, reverse=False):\n",
    "    filenames = [FRAMEFEAT_FILE_PATTERN.format(data_split_name),\n",
    "               SENTS_FILE_PATTERN.format(data_split_name)]\n",
    "    vocab_filename = '/data/gengshan/s2vt/vocabulary_whole.txt'  # VOCAB\n",
    "    output_path = OUTPUT_DIR_PATTERN % split_name  # output hdf5\n",
    "    aligned = True\n",
    "    \n",
    "    fsg = fc7FrameSequenceGenerator(filenames, BUFFER_SIZE, vocab_filename,\n",
    "         max_words=MAX_WORDS, align=aligned, shuffle=True, pad=aligned,\n",
    "         truncate=aligned, reverse=reverse)\n",
    "   \n",
    "    fsg.batch_stream_length = batch_stream_length\n",
    "\n",
    "    ''' write h5 files and file lists for caffe training '''\n",
    "    writer = HDF5SequenceWriter(fsg, output_dir=output_path)\n",
    "    writer.write_to_exhaustion()  \n",
    "    writer.write_filelists()\n",
    "    \n",
    "    ''' printing vocabulary information '''\n",
    "    if not os.path.isfile(vocab_filename):\n",
    "        print \"Vocabulary not found\"\n",
    "        # fsg.dump_vocabulary(vocab_out_path)\n",
    "    else:\n",
    "        print('using vocabulary file ' +vocab_filename)\n",
    "        \n",
    "    ''' ourput corpus '''\n",
    "    out_path = OUT_CORPUS_PATH.format(data_split_name)  \n",
    "    vid_id_order_outpath = '%s/yt_s2vtvgg_%s_vidid_order_%d_%d.txt' % \\\n",
    "        (out_path, data_split_name, BUFFER_SIZE, MAX_WORDS)\n",
    "    frame_sequence_outpath = '%s/yt_s2vtvgg_%s_sequence_%d_%d_recurrent.txt' % \\\n",
    "        (out_path, data_split_name, BUFFER_SIZE, MAX_WORDS)\n",
    "    # didn't use print('dumping frame sequence to ' + frame_sequence_outpath)\n",
    "    print('dumping video order file to ' + vid_id_order_outpath)\n",
    "    fsg.dump_video_file(vid_id_order_outpath, frame_sequence_outpath)\n",
    "    \n",
    "    return"
   ]
  },
  {
   "cell_type": "code",
   "execution_count": 3,
   "metadata": {
    "collapsed": false
   },
   "outputs": [
    {
     "name": "stdout",
     "output_type": "stream",
     "text": [
      "Reading frame features from file: /data/gengshan/pose_s2vt/splits/dataCsv_haha.txt\n",
      "Reading sentences in: /data/gengshan/pose_s2vt/splits/dataTsv_haha.txt\n",
      "Initializing the vocabulary.\n",
      "Initialized vocabulary from file with 6067 unique words (from 6066 total words in dataset).\n",
      "Processed 0/608 (0.000000%) lines\n",
      "Processed 1/608 (0.164474%) lines\n",
      "Processed 100/608 (16.447368%) lines\n",
      "Processed 200/608 (32.894737%) lines\n",
      "Processed 300/608 (49.342105%) lines\n",
      "Processed 400/608 (65.789474%) lines\n",
      "Processed 500/608 (82.236842%) lines\n",
      "Processed 600/608 (98.684211%) lines\n",
      "Exhausted all data; cutting off batch at timestep 900 with 288 streams completed\n",
      "/data/gengshan/pose_s2vt/hdf5/buffer_32_s2vt_100/small_train_batches/hdf5_chunk_list.txt\n",
      "using vocabulary file /data/gengshan/s2vt/vocabulary_whole.txt\n",
      "dumping video order file to /data/gengshan/pose_s2vt/rawcorpus/haha/yt_s2vtvgg_haha_vidid_order_32_100.txt\n",
      "Dumping vidid order to file: /data/gengshan/pose_s2vt/rawcorpus/haha/yt_s2vtvgg_haha_vidid_order_32_100.txt\n",
      "Done.\n"
     ]
    }
   ],
   "source": [
    "# split_name, data_split_name, aligned \n",
    "# DATASETS = [('train', 'train', False, False), ('val', 'val', False, False)]\n",
    "DATASETS = [('small_train', 'haha', False, False)]\n",
    "for split_name, data_split_name, aligned, reverse in DATASETS:\n",
    "    preprocess_dataset(split_name, data_split_name, BATCH_STREAM_LENGTH,aligned, reverse)"
   ]
  },
  {
   "cell_type": "code",
   "execution_count": 4,
   "metadata": {
    "collapsed": false
   },
   "outputs": [
    {
     "data": {
      "text/plain": [
       "192"
      ]
     },
     "execution_count": 4,
     "metadata": {},
     "output_type": "execute_result"
    }
   ],
   "source": [
    "37312 % 320"
   ]
  },
  {
   "cell_type": "code",
   "execution_count": null,
   "metadata": {
    "collapsed": true
   },
   "outputs": [],
   "source": []
  },
  {
   "cell_type": "code",
   "execution_count": null,
   "metadata": {
    "collapsed": true
   },
   "outputs": [],
   "source": [
    "''' count frame/sent length '''"
   ]
  },
  {
   "cell_type": "code",
   "execution_count": 21,
   "metadata": {
    "collapsed": false
   },
   "outputs": [],
   "source": [
    "with open('/data/gengshan/pose_s2vt/rawcorpus/train/yt_s2vtvgg_train_vidid_order_32_160.txt', 'r') as f:\n",
    "    alllines = f.readlines()\n",
    "keys = alllines[0].split('\\t')"
   ]
  },
  {
   "cell_type": "code",
   "execution_count": 27,
   "metadata": {
    "collapsed": false
   },
   "outputs": [],
   "source": [
    "out = []\n",
    "for it, item in enumerate(alllines[1:]):\n",
    "    structuredItem = {}\n",
    "    itemData = item.split('\\t')\n",
    "    for itt, key in enumerate(keys):\n",
    "        structuredItem[key] = itemData[itt]\n",
    "    out.append(structuredItem)\n",
    "    "
   ]
  },
  {
   "cell_type": "code",
   "execution_count": 34,
   "metadata": {
    "collapsed": false
   },
   "outputs": [
    {
     "name": "stdout",
     "output_type": "stream",
     "text": [
      "total_count\n",
      "\n"
     ]
    },
    {
     "data": {
      "text/plain": [
       "54.928253644939964"
      ]
     },
     "execution_count": 34,
     "metadata": {},
     "output_type": "execute_result"
    }
   ],
   "source": [
    "import numpy\n",
    "print(keys[3])\n",
    "counts = [int(x[keys[3]]) for x in out]\n",
    "numpy.mean(counts)"
   ]
  },
  {
   "cell_type": "code",
   "execution_count": 39,
   "metadata": {
    "collapsed": false
   },
   "outputs": [
    {
     "data": {
      "image/png": "[encoded data removed]",
      "text/plain": [
       "<matplotlib.figure.Figure at 0x7fe24ff56450>"
      ]
     },
     "metadata": {},
     "output_type": "display_data"
    }
   ],
   "source": [
    "from matplotlib import pyplot as plt\n",
    "%matplotlib inline\n",
    "\n",
    "plt.hist(counts, bins = 1000);\n",
    "plt.xscale('log')"
   ]
  },
  {
   "cell_type": "code",
   "execution_count": null,
   "metadata": {
    "collapsed": true
   },
   "outputs": [],
   "source": []
  }
 ],
 "metadata": {
  "kernelspec": {
   "display_name": "Python 2",
   "language": "python",
   "name": "python2"
  },
  "language_info": {
   "codemirror_mode": {
    "name": "ipython",
    "version": 2
   },
   "file_extension": ".py",
   "mimetype": "text/x-python",
   "name": "python",
   "nbconvert_exporter": "python",
   "pygments_lexer": "ipython2",
   "version": "2.7.6"
  }
 },
 "nbformat": 4,
 "nbformat_minor": 0
}
