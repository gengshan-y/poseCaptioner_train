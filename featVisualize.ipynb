{
 "cells": [
  {
   "cell_type": "code",
   "execution_count": 1,
   "metadata": {
    "collapsed": false
   },
   "outputs": [],
   "source": [
    "import os\n",
    "import subprocess\n",
    "from pose2VidLib import *"
   ]
  },
  {
   "cell_type": "code",
   "execution_count": 2,
   "metadata": {
    "collapsed": true
   },
   "outputs": [],
   "source": [
    "csvPath = '/data/gengshan/pose_s2vt/splits/dataCsv_haha.txt'"
   ]
  },
  {
   "cell_type": "code",
   "execution_count": 3,
   "metadata": {
    "collapsed": false
   },
   "outputs": [
    {
     "name": "stdout",
     "output_type": "stream",
     "text": [
      "33619 frames loaded\n",
      "10 clip found\n"
     ]
    }
   ],
   "source": [
    "structuredData, clipTitles = getStructuredData(csvPath)"
   ]
  },
  {
   "cell_type": "code",
   "execution_count": 4,
   "metadata": {
    "collapsed": false
   },
   "outputs": [],
   "source": [
    "for it, posePair in enumerate(structuredData):\n",
    "    pose2Img(posePair['imgPose'], posePair['clipTitle'])"
   ]
  },
  {
   "cell_type": "code",
   "execution_count": 5,
   "metadata": {
    "collapsed": false
   },
   "outputs": [
    {
     "name": "stdout",
     "output_type": "stream",
     "text": [
      "ffmpeg -f image2 -r 12 -i tmp/U0-4g5iIyqQ_9_%06d0.jpg -vcodec mpeg4 -y tmp/U0-4g5iIyqQ_9_pose.mp4\n",
      "out: \n",
      "err: ffmpeg version 2.4.3-1ubuntu1~trusty6 Copyright (c) 2000-2014 the FFmpeg developers\n",
      "err:   built on Nov 22 2014 17:07:19 with gcc 4.8 (Ubuntu 4.8.2-19ubuntu1)\n",
      "err:   configuration: --prefix=/usr --extra-version='1ubuntu1~trusty6' --build-suffix=-ffmpeg --toolchain=hardened --extra-cflags= --extra-cxxflags= --libdir=/usr/lib/x86_64-linux-gnu --shlibdir=/usr/lib/x86_64-linux-gnu --incdir=/usr/include/x86_64-linux-gnu --enable-gpl --enable-shared --disable-stripping --enable-avresample --enable-avisynth --enable-fontconfig --enable-gnutls --enable-ladspa --enable-libass --enable-libbluray --enable-libbs2b --enable-libcaca --enable-libcdio --enable-libflite --enable-libfreetype --enable-libfribidi --enable-libgme --enable-libgsm --enable-libmodplug --enable-libmp3lame --enable-libopenjpeg --enable-libopus --enable-libpulse --enable-librtmp --enable-libschroedinger --enable-libshine --enable-libspeex --enable-libssh --enable-libtheora --enable-libtwolame --enable-libvorbis --enable-libvpx --enable-libwavpack --enable-libwebp --enable-opengl --enable-x11grab --enable-libxvid --enable-libx265 --enable-libdc1394 --enable-libiec61883 --enable-libzvbi --enable-libzmq --enable-frei0r --enable-libx264 --enable-libsoxr --enable-openal --enable-libopencv\n",
      "err:   libavutil      54.  7.100 / 54.  7.100\n",
      "err:   libavcodec     56.  1.100 / 56.  1.100\n",
      "err:   libavformat    56.  4.101 / 56.  4.101\n",
      "err:   libavdevice    56.  0.100 / 56.  0.100\n",
      "err:   libavfilter     5.  1.100 /  5.  1.100\n",
      "err:   libavresample   2.  1.  0 /  2.  1.  0\n",
      "err:   libswscale      3.  0.100 /  3.  0.100\n",
      "err:   libswresample   1.  1.100 /  1.  1.100\n",
      "err:   libpostproc    53.  0.100 / 53.  0.100\n",
      "err: Input #0, image2, from 'tmp/U0-4g5iIyqQ_9_%06d0.jpg':\n",
      "err:   Duration: 00:00:06.00, start: 0.000000, bitrate: N/A\n",
      "err:     Stream #0:0: Video: mjpeg, yuvj420p(pc, bt470bg), 256x256 [SAR 1:1 DAR 1:1], 12 fps, 12 tbr, 12 tbn, 12 tbc\n",
      "err: [swscaler @ 0x13b0d60] deprecated pixel format used, make sure you did set range correctly\n",
      "err: Output #0, mp4, to 'tmp/U0-4g5iIyqQ_9_pose.mp4':\n",
      "err:   Metadata:\n",
      "err:     encoder         : Lavf56.4.101\n",
      "err:     Stream #0:0: Video: mpeg4 ( [0][0][0] / 0x0020), yuv420p, 256x256 [SAR 1:1 DAR 1:1], q=2-31, 200 kb/s, 12 fps, 12288 tbn, 12 tbc\n",
      "err:     Metadata:\n",
      "err:       encoder         : Lavc56.1.100 mpeg4\n",
      "err: Stream mapping:\n",
      "err:   Stream #0:0 -> #0:0 (mjpeg (native) -> mpeg4 (native))\n",
      "err: Press [q] to stop, [?] for help\n",
      "err: frame=   72 fps=0.0 q=4.8 Lsize=     201kB time=00:00:06.00 bitrate= 275.0kbits/s    \n",
      "err: video:200kB audio:0kB subtitle:0kB other streams:0kB global headers:0kB muxing overhead: 0.569113%\n",
      "err: \n",
      "ffmpeg -f image2 -r 12 -i tmp/Y2SdS-UCcK4_30_%06d0.jpg -vcodec mpeg4 -y tmp/Y2SdS-UCcK4_30_pose.mp4\n",
      "out: \n",
      "err: ffmpeg version 2.4.3-1ubuntu1~trusty6 Copyright (c) 2000-2014 the FFmpeg developers\n",
      "err:   built on Nov 22 2014 17:07:19 with gcc 4.8 (Ubuntu 4.8.2-19ubuntu1)\n",
      "err:   configuration: --prefix=/usr --extra-version='1ubuntu1~trusty6' --build-suffix=-ffmpeg --toolchain=hardened --extra-cflags= --extra-cxxflags= --libdir=/usr/lib/x86_64-linux-gnu --shlibdir=/usr/lib/x86_64-linux-gnu --incdir=/usr/include/x86_64-linux-gnu --enable-gpl --enable-shared --disable-stripping --enable-avresample --enable-avisynth --enable-fontconfig --enable-gnutls --enable-ladspa --enable-libass --enable-libbluray --enable-libbs2b --enable-libcaca --enable-libcdio --enable-libflite --enable-libfreetype --enable-libfribidi --enable-libgme --enable-libgsm --enable-libmodplug --enable-libmp3lame --enable-libopenjpeg --enable-libopus --enable-libpulse --enable-librtmp --enable-libschroedinger --enable-libshine --enable-libspeex --enable-libssh --enable-libtheora --enable-libtwolame --enable-libvorbis --enable-libvpx --enable-libwavpack --enable-libwebp --enable-opengl --enable-x11grab --enable-libxvid --enable-libx265 --enable-libdc1394 --enable-libiec61883 --enable-libzvbi --enable-libzmq --enable-frei0r --enable-libx264 --enable-libsoxr --enable-openal --enable-libopencv\n",
      "err:   libavutil      54.  7.100 / 54.  7.100\n",
      "err:   libavcodec     56.  1.100 / 56.  1.100\n",
      "err:   libavformat    56.  4.101 / 56.  4.101\n",
      "err:   libavdevice    56.  0.100 / 56.  0.100\n",
      "err:   libavfilter     5.  1.100 /  5.  1.100\n",
      "err:   libavresample   2.  1.  0 /  2.  1.  0\n",
      "err:   libswscale      3.  0.100 /  3.  0.100\n",
      "err:   libswresample   1.  1.100 /  1.  1.100\n",
      "err:   libpostproc    53.  0.100 / 53.  0.100\n",
      "err: Input #0, image2, from 'tmp/Y2SdS-UCcK4_30_%06d0.jpg':\n",
      "err:   Duration: 00:00:03.58, start: 0.000000, bitrate: N/A\n",
      "err:     Stream #0:0: Video: mjpeg, yuvj420p(pc, bt470bg), 256x256 [SAR 1:1 DAR 1:1], 12 fps, 12 tbr, 12 tbn, 12 tbc\n",
      "err: [swscaler @ 0x191ed60] deprecated pixel format used, make sure you did set range correctly\n",
      "err: Output #0, mp4, to 'tmp/Y2SdS-UCcK4_30_pose.mp4':\n",
      "err:   Metadata:\n",
      "err:     encoder         : Lavf56.4.101\n",
      "err:     Stream #0:0: Video: mpeg4 ( [0][0][0] / 0x0020), yuv420p, 256x256 [SAR 1:1 DAR 1:1], q=2-31, 200 kb/s, 12 fps, 12288 tbn, 12 tbc\n",
      "err:     Metadata:\n",
      "err:       encoder         : Lavc56.1.100 mpeg4\n",
      "err: Stream mapping:\n",
      "err:   Stream #0:0 -> #0:0 (mjpeg (native) -> mpeg4 (native))\n",
      "err: Press [q] to stop, [?] for help\n",
      "err: frame=   43 fps=0.0 q=10.5 Lsize=     158kB time=00:00:03.58 bitrate= 361.2kbits/s    \n",
      "err: video:157kB audio:0kB subtitle:0kB other streams:0kB global headers:0kB muxing overhead: 0.648769%\n",
      "err: \n",
      "ffmpeg -f image2 -r 12 -i tmp/pB_degMuvus_5_%06d0.jpg -vcodec mpeg4 -y tmp/pB_degMuvus_5_pose.mp4\n",
      "out: \n",
      "err: ffmpeg version 2.4.3-1ubuntu1~trusty6 Copyright (c) 2000-2014 the FFmpeg developers\n",
      "err:   built on Nov 22 2014 17:07:19 with gcc 4.8 (Ubuntu 4.8.2-19ubuntu1)\n",
      "err:   configuration: --prefix=/usr --extra-version='1ubuntu1~trusty6' --build-suffix=-ffmpeg --toolchain=hardened --extra-cflags= --extra-cxxflags= --libdir=/usr/lib/x86_64-linux-gnu --shlibdir=/usr/lib/x86_64-linux-gnu --incdir=/usr/include/x86_64-linux-gnu --enable-gpl --enable-shared --disable-stripping --enable-avresample --enable-avisynth --enable-fontconfig --enable-gnutls --enable-ladspa --enable-libass --enable-libbluray --enable-libbs2b --enable-libcaca --enable-libcdio --enable-libflite --enable-libfreetype --enable-libfribidi --enable-libgme --enable-libgsm --enable-libmodplug --enable-libmp3lame --enable-libopenjpeg --enable-libopus --enable-libpulse --enable-librtmp --enable-libschroedinger --enable-libshine --enable-libspeex --enable-libssh --enable-libtheora --enable-libtwolame --enable-libvorbis --enable-libvpx --enable-libwavpack --enable-libwebp --enable-opengl --enable-x11grab --enable-libxvid --enable-libx265 --enable-libdc1394 --enable-libiec61883 --enable-libzvbi --enable-libzmq --enable-frei0r --enable-libx264 --enable-libsoxr --enable-openal --enable-libopencv\n",
      "err:   libavutil      54.  7.100 / 54.  7.100\n",
      "err:   libavcodec     56.  1.100 / 56.  1.100\n",
      "err:   libavformat    56.  4.101 / 56.  4.101\n",
      "err:   libavdevice    56.  0.100 / 56.  0.100\n",
      "err:   libavfilter     5.  1.100 /  5.  1.100\n",
      "err:   libavresample   2.  1.  0 /  2.  1.  0\n",
      "err:   libswscale      3.  0.100 /  3.  0.100\n",
      "err:   libswresample   1.  1.100 /  1.  1.100\n",
      "err:   libpostproc    53.  0.100 / 53.  0.100\n",
      "err: Input #0, image2, from 'tmp/pB_degMuvus_5_%06d0.jpg':\n",
      "err:   Duration: 00:00:03.75, start: 0.000000, bitrate: N/A\n",
      "err:     Stream #0:0: Video: mjpeg, yuvj420p(pc, bt470bg), 256x256 [SAR 1:1 DAR 1:1], 12 fps, 12 tbr, 12 tbn, 12 tbc\n",
      "err: [swscaler @ 0x1fced60] deprecated pixel format used, make sure you did set range correctly\n",
      "err: Output #0, mp4, to 'tmp/pB_degMuvus_5_pose.mp4':\n",
      "err:   Metadata:\n",
      "err:     encoder         : Lavf56.4.101\n",
      "err:     Stream #0:0: Video: mpeg4 ( [0][0][0] / 0x0020), yuv420p, 256x256 [SAR 1:1 DAR 1:1], q=2-31, 200 kb/s, 12 fps, 12288 tbn, 12 tbc\n",
      "err:     Metadata:\n",
      "err:       encoder         : Lavc56.1.100 mpeg4\n",
      "err: Stream mapping:\n",
      "err:   Stream #0:0 -> #0:0 (mjpeg (native) -> mpeg4 (native))\n",
      "err: Press [q] to stop, [?] for help\n",
      "err: frame=   45 fps=0.0 q=7.5 Lsize=     162kB time=00:00:03.75 bitrate= 352.9kbits/s    \n",
      "err: video:161kB audio:0kB subtitle:0kB other streams:0kB global headers:0kB muxing overhead: 0.639415%\n",
      "err: \n",
      "ffmpeg -f image2 -r 12 -i tmp/--u_-w9WCG8_14_%06d0.jpg -vcodec mpeg4 -y tmp/--u_-w9WCG8_14_pose.mp4\n",
      "out: \n",
      "err: ffmpeg version 2.4.3-1ubuntu1~trusty6 Copyright (c) 2000-2014 the FFmpeg developers\n",
      "err:   built on Nov 22 2014 17:07:19 with gcc 4.8 (Ubuntu 4.8.2-19ubuntu1)\n",
      "err:   configuration: --prefix=/usr --extra-version='1ubuntu1~trusty6' --build-suffix=-ffmpeg --toolchain=hardened --extra-cflags= --extra-cxxflags= --libdir=/usr/lib/x86_64-linux-gnu --shlibdir=/usr/lib/x86_64-linux-gnu --incdir=/usr/include/x86_64-linux-gnu --enable-gpl --enable-shared --disable-stripping --enable-avresample --enable-avisynth --enable-fontconfig --enable-gnutls --enable-ladspa --enable-libass --enable-libbluray --enable-libbs2b --enable-libcaca --enable-libcdio --enable-libflite --enable-libfreetype --enable-libfribidi --enable-libgme --enable-libgsm --enable-libmodplug --enable-libmp3lame --enable-libopenjpeg --enable-libopus --enable-libpulse --enable-librtmp --enable-libschroedinger --enable-libshine --enable-libspeex --enable-libssh --enable-libtheora --enable-libtwolame --enable-libvorbis --enable-libvpx --enable-libwavpack --enable-libwebp --enable-opengl --enable-x11grab --enable-libxvid --enable-libx265 --enable-libdc1394 --enable-libiec61883 --enable-libzvbi --enable-libzmq --enable-frei0r --enable-libx264 --enable-libsoxr --enable-openal --enable-libopencv\n",
      "err:   libavutil      54.  7.100 / 54.  7.100\n",
      "err:   libavcodec     56.  1.100 / 56.  1.100\n",
      "err:   libavformat    56.  4.101 / 56.  4.101\n",
      "err:   libavdevice    56.  0.100 / 56.  0.100\n",
      "err:   libavfilter     5.  1.100 /  5.  1.100\n",
      "err:   libavresample   2.  1.  0 /  2.  1.  0\n",
      "err:   libswscale      3.  0.100 /  3.  0.100\n",
      "err:   libswresample   1.  1.100 /  1.  1.100\n",
      "err:   libpostproc    53.  0.100 / 53.  0.100\n",
      "err: Input #0, image2, from 'tmp/--u_-w9WCG8_14_%06d0.jpg':\n",
      "err:   Duration: 00:00:10.83, start: 0.000000, bitrate: N/A\n",
      "err:     Stream #0:0: Video: mjpeg, yuvj420p(pc, bt470bg), 256x256 [SAR 1:1 DAR 1:1], 12 fps, 12 tbr, 12 tbn, 12 tbc\n",
      "err: [swscaler @ 0x1f83560] deprecated pixel format used, make sure you did set range correctly\n",
      "err: Output #0, mp4, to 'tmp/--u_-w9WCG8_14_pose.mp4':\n",
      "err:   Metadata:\n",
      "err:     encoder         : Lavf56.4.101\n",
      "err:     Stream #0:0: Video: mpeg4 ( [0][0][0] / 0x0020), yuv420p, 256x256 [SAR 1:1 DAR 1:1], q=2-31, 200 kb/s, 12 fps, 12288 tbn, 12 tbc\n",
      "err:     Metadata:\n",
      "err:       encoder         : Lavc56.1.100 mpeg4\n",
      "err: Stream mapping:\n",
      "err:   Stream #0:0 -> #0:0 (mjpeg (native) -> mpeg4 (native))\n",
      "err: Press [q] to stop, [?] for help\n",
      "err: frame=  130 fps=0.0 q=6.8 Lsize=     327kB time=00:00:10.83 bitrate= 247.3kbits/s    \n",
      "err: video:326kB audio:0kB subtitle:0kB other streams:0kB global headers:0kB muxing overhead: 0.425566%\n",
      "err: \n"
     ]
    },
    {
     "data": {
      "text/plain": [
       "0"
      ]
     },
     "execution_count": 5,
     "metadata": {},
     "output_type": "execute_result"
    }
   ],
   "source": [
    "for it, clipTitle in enumerate(clipTitles):\n",
    "    if it > 3:\n",
    "        break\n",
    "    cmd = 'ffmpeg -f image2 -r 12 -i tmp/' + clipTitle + '_%06d0.jpg -vcodec mpeg4 -y tmp/' + clipTitle + '_pose.mp4'\n",
    "    print(cmd)\n",
    "    p = subprocess.Popen(cmd, shell=True,\n",
    "                         stdin=subprocess.PIPE, stdout=subprocess.PIPE, stderr=subprocess.PIPE)\n",
    "    out, err = p.communicate(input='<your password>')\n",
    "    print \"\\n\".join(\"out: \" + x for x in out.split('\\n'))\n",
    "    print \"\\n\".join(\"err: \" + x for x in err.split('\\n'))\n",
    "os.system('rm tmp/*.jpg')"
   ]
  }
 ],
 "metadata": {
  "kernelspec": {
   "display_name": "Python 2",
   "language": "python",
   "name": "python2"
  },
  "language_info": {
   "codemirror_mode": {
    "name": "ipython",
    "version": 2
   },
   "file_extension": ".py",
   "mimetype": "text/x-python",
   "name": "python",
   "nbconvert_exporter": "python",
   "pygments_lexer": "ipython2",
   "version": "2.7.6"
  }
 },
 "nbformat": 4,
 "nbformat_minor": 0
}
