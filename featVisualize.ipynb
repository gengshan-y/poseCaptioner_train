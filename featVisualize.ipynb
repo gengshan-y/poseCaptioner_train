{
 "cells": [
  {
   "cell_type": "code",
   "execution_count": 10,
   "metadata": {
    "collapsed": false
   },
   "outputs": [],
   "source": [
    "import numpy as np\n",
    "from PIL import Image, ImageDraw\n",
    "import os\n",
    "import subprocess"
   ]
  },
  {
   "cell_type": "code",
   "execution_count": 3,
   "metadata": {
    "collapsed": true
   },
   "outputs": [],
   "source": [
    "''' local pairRef = {\n",
    "        {1,2},      {2,3},      {3,7},\n",
    "        {4,5},      {4,7},      {5,6},\n",
    "        {7,9},      {9,10},\n",
    "        {14,9},     {11,12},    {12,13},\n",
    "        {13,9},     {14,15},    {15,16}\n",
    "    }\n",
    "\n",
    "    local partNames = {'RAnk','RKne','RHip','LHip','LKne','LAnk',\n",
    "                       'Pelv','Thrx','Neck','Head',\n",
    "                       'RWri','RElb','RSho','LSho','LElb','LWri'}\n",
    "'''\n",
    "\n",
    "pairRef = [(8, 9 ), (9,10), (14,9), (11, 12), (12, 13), (13, 9), (14, 15), (15, 16)]  # remove everyting about hip, knee and ankle\n",
    "pairRef = [(it[0] - 1, it[1] -1) for it in pairRef]"
   ]
  },
  {
   "cell_type": "code",
   "execution_count": 6,
   "metadata": {
    "collapsed": false
   },
   "outputs": [
    {
     "name": "stdout",
     "output_type": "stream",
     "text": [
      "32982 frames loaded\n",
      "600 clip found\n"
     ]
    }
   ],
   "source": [
    "structuredData, clipTitles = getData('/data/gengshan/pose_s2vt/splits/dataCsv_haha.txt')"
   ]
  },
  {
   "cell_type": "code",
   "execution_count": 5,
   "metadata": {
    "collapsed": false
   },
   "outputs": [],
   "source": [
    "def getData(dataPath):\n",
    "    structuredData = []\n",
    "    \n",
    "    ''' read data from file '''\n",
    "    with open(dataPath, 'r') as f:\n",
    "        allData = [it[:-1] for it in f.readlines()]\n",
    "\n",
    "    print(str(len(allData)) + ' frames loaded')\n",
    "    for it, poseItem in enumerate(allData):\n",
    "        frameData = {}\n",
    "        frameData['clipTitle'] = poseItem.split(',')[0]\n",
    "        imgPose = np.array([float(it) for it in poseItem.split(',')[1:]]) * 4  # use the 256*256 resolution\n",
    "        imgPose.resize((16,2))\n",
    "        frameData['imgPose'] = imgPose\n",
    "        \n",
    "        structuredData.append(frameData)\n",
    "    \n",
    "    clipTitles = set([x['clipTitle'][:-8] for x in structuredData])\n",
    "    print(str(len(clipTitles)) + ' clip found')    \n",
    "    return structuredData, clipTitles"
   ]
  },
  {
   "cell_type": "code",
   "execution_count": 99,
   "metadata": {
    "collapsed": false
   },
   "outputs": [],
   "source": [
    "for it, posePair in enumerate(structuredData):\n",
    "    pose2Img(posePair['imgPose'], posePair['clipTitle'])"
   ]
  },
  {
   "cell_type": "code",
   "execution_count": 7,
   "metadata": {
    "collapsed": false
   },
   "outputs": [],
   "source": [
    "def pose2Img(framePose, frameTitle):\n",
    "    im = Image.new('RGBA', (256, 256), (255, 255, 255, 0))\n",
    "    draw = ImageDraw.Draw(im)\n",
    "    for cord in framePose:\n",
    "        draw.point(tuple(cord), 'red')\n",
    "    for lineMark in pairRef:\n",
    "        draw.line(tuple(framePose[lineMark[0]]) + tuple(framePose[lineMark[1]]), fill=1, width=3) \n",
    "    im.save(\"/home/gengshan/workJul/poseCaptioner_train/tmp/\" + frameTitle + \".jpg\", \"JPEG\")"
   ]
  },
  {
   "cell_type": "code",
   "execution_count": 14,
   "metadata": {
    "collapsed": false
   },
   "outputs": [
    {
     "name": "stdout",
     "output_type": "stream",
     "text": [
      "ffmpeg -f image2 -r 12 -i tmp/oyDVX7IPvag_37_%06d0.jpg -vcodec mpeg4 -y tmp/oyDVX7IPvag_37_pose.mp4\n",
      "ffmpeg -f image2 -r 12 -i tmp/oyDVX7IPvag_59_%06d0.jpg -vcodec mpeg4 -y tmp/oyDVX7IPvag_59_pose.mp4\n",
      "ffmpeg -f image2 -r 12 -i tmp/KtXrzu-UyMw_30_%06d0.jpg -vcodec mpeg4 -y tmp/KtXrzu-UyMw_30_pose.mp4\n",
      "ffmpeg -f image2 -r 12 -i tmp/KtXrzu-UyMw_32_%06d0.jpg -vcodec mpeg4 -y tmp/KtXrzu-UyMw_32_pose.mp4\n",
      "ffmpeg -f image2 -r 12 -i tmp/KtXrzu-UyMw_35_%06d0.jpg -vcodec mpeg4 -y tmp/KtXrzu-UyMw_35_pose.mp4\n",
      "ffmpeg -f image2 -r 12 -i tmp/KtXrzu-UyMw_37_%06d0.jpg -vcodec mpeg4 -y tmp/KtXrzu-UyMw_37_pose.mp4\n",
      "ffmpeg -f image2 -r 12 -i tmp/oyDVX7IPvag_60_%06d0.jpg -vcodec mpeg4 -y tmp/oyDVX7IPvag_60_pose.mp4\n",
      "ffmpeg -f image2 -r 12 -i tmp/KtXrzu-UyMw_38_%06d0.jpg -vcodec mpeg4 -y tmp/KtXrzu-UyMw_38_pose.mp4\n",
      "ffmpeg -f image2 -r 12 -i tmp/oyDVX7IPvag_54_%06d0.jpg -vcodec mpeg4 -y tmp/oyDVX7IPvag_54_pose.mp4\n",
      "ffmpeg -f image2 -r 12 -i tmp/Kr7fkT_KtYw_25_%06d0.jpg -vcodec mpeg4 -y tmp/Kr7fkT_KtYw_25_pose.mp4\n",
      "ffmpeg -f image2 -r 12 -i tmp/Kr7fkT_KtYw_26_%06d0.jpg -vcodec mpeg4 -y tmp/Kr7fkT_KtYw_26_pose.mp4\n"
     ]
    },
    {
     "data": {
      "text/plain": [
       "0"
      ]
     },
     "execution_count": 14,
     "metadata": {},
     "output_type": "execute_result"
    }
   ],
   "source": [
    "for it, clipTitle in enumerate(clipTitles):\n",
    "    if it > 10:\n",
    "        break\n",
    "    cmd = 'ffmpeg -f image2 -r 12 -i tmp/' + clipTitle + '_%06d0.jpg -vcodec mpeg4 -y tmp/' + clipTitle + '_pose.mp4'\n",
    "    print cmd\n",
    "    p = subprocess.Popen(cmd, shell=True,\n",
    "                         stdin=subprocess.PIPE, stdout=subprocess.PIPE, stderr=subprocess.PIPE)\n",
    "    out, err = p.communicate(input='<your password>')\n",
    "    # print \"\\n\".join(\"out: \" + x for x in out.split('\\n'))\n",
    "    # print \"\\n\".join(\"err: \" + x for x in err.split('\\n'))\n",
    "os.system('rm tmp/*.jpg')"
   ]
  },
  {
   "cell_type": "code",
   "execution_count": 37,
   "metadata": {
    "collapsed": false
   },
   "outputs": [
    {
     "name": "stdout",
     "output_type": "stream",
     "text": [
      "out: \n",
      "err: ffmpeg version 2.4.3-1ubuntu1~trusty6 Copyright (c) 2000-2014 the FFmpeg developers\n",
      "err:   built on Nov 22 2014 17:07:19 with gcc 4.8 (Ubuntu 4.8.2-19ubuntu1)\n",
      "err:   configuration: --prefix=/usr --extra-version='1ubuntu1~trusty6' --build-suffix=-ffmpeg --toolchain=hardened --extra-cflags= --extra-cxxflags= --libdir=/usr/lib/x86_64-linux-gnu --shlibdir=/usr/lib/x86_64-linux-gnu --incdir=/usr/include/x86_64-linux-gnu --enable-gpl --enable-shared --disable-stripping --enable-avresample --enable-avisynth --enable-fontconfig --enable-gnutls --enable-ladspa --enable-libass --enable-libbluray --enable-libbs2b --enable-libcaca --enable-libcdio --enable-libflite --enable-libfreetype --enable-libfribidi --enable-libgme --enable-libgsm --enable-libmodplug --enable-libmp3lame --enable-libopenjpeg --enable-libopus --enable-libpulse --enable-librtmp --enable-libschroedinger --enable-libshine --enable-libspeex --enable-libssh --enable-libtheora --enable-libtwolame --enable-libvorbis --enable-libvpx --enable-libwavpack --enable-libwebp --enable-opengl --enable-x11grab --enable-libxvid --enable-libx265 --enable-libdc1394 --enable-libiec61883 --enable-libzvbi --enable-libzmq --enable-frei0r --enable-libx264 --enable-libsoxr --enable-openal --enable-libopencv\n",
      "err:   libavutil      54.  7.100 / 54.  7.100\n",
      "err:   libavcodec     56.  1.100 / 56.  1.100\n",
      "err:   libavformat    56.  4.101 / 56.  4.101\n",
      "err:   libavdevice    56.  0.100 / 56.  0.100\n",
      "err:   libavfilter     5.  1.100 /  5.  1.100\n",
      "err:   libavresample   2.  1.  0 /  2.  1.  0\n",
      "err:   libswscale      3.  0.100 /  3.  0.100\n",
      "err:   libswresample   1.  1.100 /  1.  1.100\n",
      "err:   libpostproc    53.  0.100 / 53.  0.100\n",
      "err: [image2 @ 0x13c1500] Could find no file with path 'frame%02d.jpg' and index in the range 0-4\n",
      "err: frame%02d.jpg: No such file or directory\n",
      "err: \n"
     ]
    }
   ],
   "source": []
  }
 ],
 "metadata": {
  "kernelspec": {
   "display_name": "Python 2",
   "language": "python",
   "name": "python2"
  },
  "language_info": {
   "codemirror_mode": {
    "name": "ipython",
    "version": 2
   },
   "file_extension": ".py",
   "mimetype": "text/x-python",
   "name": "python",
   "nbconvert_exporter": "python",
   "pygments_lexer": "ipython2",
   "version": "2.7.6"
  }
 },
 "nbformat": 4,
 "nbformat_minor": 0
}
