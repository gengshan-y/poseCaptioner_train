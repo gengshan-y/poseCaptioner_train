{
 "cells": [
  {
   "cell_type": "code",
   "execution_count": 27,
   "metadata": {
    "collapsed": true
   },
   "outputs": [],
   "source": [
    "import numpy as np\n",
    "from PIL import Image, ImageDraw\n",
    "import h5py\n",
    "import os"
   ]
  },
  {
   "cell_type": "code",
   "execution_count": 25,
   "metadata": {
    "collapsed": true
   },
   "outputs": [],
   "source": [
    "# pairRef = [(1,2), (2,3), (3,7), (4,5), (4,7), (5,6), (7,9 ), (9,10), (14,9), (11, 12), (12, 13), (13, 9), (14, 15), (15, 16)]\n",
    "pairRef = [(7,9 ), (9,10), (14,9), (11, 12), (12, 13), (13, 9), (14, 15), (15, 16)]\n",
    "pairRef = [(it[0] - 1, it[1] -1) for it in pairRef]"
   ]
  },
  {
   "cell_type": "code",
   "execution_count": 10,
   "metadata": {
    "collapsed": false
   },
   "outputs": [],
   "source": [
    "with open('/data/gengshan/pose_s2vt/splits/dataCsv_haha.txt') as f:\n",
    "    poseData = [it[:-1] for it in f.readlines()]"
   ]
  },
  {
   "cell_type": "code",
   "execution_count": 11,
   "metadata": {
    "collapsed": false
   },
   "outputs": [
    {
     "name": "stdout",
     "output_type": "stream",
     "text": [
      "LQvjEsNYR0Q_111\n",
      "Y2SdS-UCcK4_110\n",
      "zmhQtoYWRX8_5\n"
     ]
    }
   ],
   "source": [
    "clipTitles = []\n",
    "clipPoses = []\n",
    "clipPose = []\n",
    "for it, poseItem in enumerate(poseData):\n",
    "\n",
    "    if it == 100:\n",
    "        break\n",
    "    clipTitle = poseItem.split(',', 1)[0][:-8]\n",
    "    if len(clipTitles) == 0 or clipTitles[-1] != clipTitle:\n",
    "        print(clipTitle)\n",
    "        clipTitles.append(clipTitle)\n",
    "        clipPoses.append(clipPose)\n",
    "        clipPose = []\n",
    "        \n",
    "    imgPose = np.array([float(it) for it in poseItem.split(',', 1)[1].split(',')])\n",
    "    clipPose.append(imgPose)\n",
    "    \n",
    "clipPoses.append(clipPose)\n",
    "clipPoses = clipPoses[1:]"
   ]
  },
  {
   "cell_type": "code",
   "execution_count": 38,
   "metadata": {
    "collapsed": false
   },
   "outputs": [
    {
     "data": {
      "text/plain": [
       "0"
      ]
     },
     "execution_count": 38,
     "metadata": {},
     "output_type": "execute_result"
    }
   ],
   "source": [
    "def pose2video(poseData, clipTitle):\n",
    "    poseData *= poseData\n",
    "    os.system('rm /home/gengshan/workJul/poseCaptioner_train/tmp/*')\n",
    "    for it, framePose in enumerate(poseData):\n",
    "        im = Image.new('RGBA', (256, 256), (255, 255, 255, 0))\n",
    "        draw = ImageDraw.Draw(im)\n",
    "        framePose.resize(16,2)\n",
    "        for cord in framePose:\n",
    "            draw.point(tuple(cord), 'red')\n",
    "        for lineMark in pairRef:\n",
    "            draw.line(tuple(framePose[lineMark[0]]) + tuple(framePose[lineMark[1]]), fill=1, width=3) \n",
    "        im.save(\"/home/gengshan/workJul/poseCaptioner_train/tmp/\" + clipTitle + \"%04d.jpg\" % index, \"JPEG\")\n",
    "    os.system('ffmpeg -f image2 -r 12 -i tmp/frame%02d.jpg -vcodec mpeg4 -y tmp/movie.mp4')"
   ]
  },
  {
   "cell_type": "code",
   "execution_count": 36,
   "metadata": {
    "collapsed": false
   },
   "outputs": [
    {
     "data": {
      "text/plain": [
       "256"
      ]
     },
     "execution_count": 36,
     "metadata": {},
     "output_type": "execute_result"
    }
   ],
   "source": [
    "os.system('ffmpeg -f image2 -r 12 -i frame%02d.jpg -vcodec mpeg4 -y movie.mp4')"
   ]
  },
  {
   "cell_type": "code",
   "execution_count": 37,
   "metadata": {
    "collapsed": false
   },
   "outputs": [
    {
     "name": "stdout",
     "output_type": "stream",
     "text": [
      "out: \n",
      "err: ffmpeg version 2.4.3-1ubuntu1~trusty6 Copyright (c) 2000-2014 the FFmpeg developers\n",
      "err:   built on Nov 22 2014 17:07:19 with gcc 4.8 (Ubuntu 4.8.2-19ubuntu1)\n",
      "err:   configuration: --prefix=/usr --extra-version='1ubuntu1~trusty6' --build-suffix=-ffmpeg --toolchain=hardened --extra-cflags= --extra-cxxflags= --libdir=/usr/lib/x86_64-linux-gnu --shlibdir=/usr/lib/x86_64-linux-gnu --incdir=/usr/include/x86_64-linux-gnu --enable-gpl --enable-shared --disable-stripping --enable-avresample --enable-avisynth --enable-fontconfig --enable-gnutls --enable-ladspa --enable-libass --enable-libbluray --enable-libbs2b --enable-libcaca --enable-libcdio --enable-libflite --enable-libfreetype --enable-libfribidi --enable-libgme --enable-libgsm --enable-libmodplug --enable-libmp3lame --enable-libopenjpeg --enable-libopus --enable-libpulse --enable-librtmp --enable-libschroedinger --enable-libshine --enable-libspeex --enable-libssh --enable-libtheora --enable-libtwolame --enable-libvorbis --enable-libvpx --enable-libwavpack --enable-libwebp --enable-opengl --enable-x11grab --enable-libxvid --enable-libx265 --enable-libdc1394 --enable-libiec61883 --enable-libzvbi --enable-libzmq --enable-frei0r --enable-libx264 --enable-libsoxr --enable-openal --enable-libopencv\n",
      "err:   libavutil      54.  7.100 / 54.  7.100\n",
      "err:   libavcodec     56.  1.100 / 56.  1.100\n",
      "err:   libavformat    56.  4.101 / 56.  4.101\n",
      "err:   libavdevice    56.  0.100 / 56.  0.100\n",
      "err:   libavfilter     5.  1.100 /  5.  1.100\n",
      "err:   libavresample   2.  1.  0 /  2.  1.  0\n",
      "err:   libswscale      3.  0.100 /  3.  0.100\n",
      "err:   libswresample   1.  1.100 /  1.  1.100\n",
      "err:   libpostproc    53.  0.100 / 53.  0.100\n",
      "err: [image2 @ 0x13c1500] Could find no file with path 'frame%02d.jpg' and index in the range 0-4\n",
      "err: frame%02d.jpg: No such file or directory\n",
      "err: \n"
     ]
    }
   ],
   "source": [
    "p = subprocess.Popen('ffmpeg -f image2 -r 12 -i frame%02d.jpg -vcodec mpeg4 -y movie.mp4', shell=True,\n",
    "                     stdin=subprocess.PIPE, stdout=subprocess.PIPE, stderr=subprocess.PIPE)\n",
    "out, err = p.communicate(input='<your password>')\n",
    "print \"\\n\".join(\"out: \" + x for x in out.split('\\n'))\n",
    "print \"\\n\".join(\"err: \" + x for x in err.split('\\n'))"
   ]
  },
  {
   "cell_type": "code",
   "execution_count": 28,
   "metadata": {
    "collapsed": false
   },
   "outputs": [
    {
     "name": "stdout",
     "output_type": "stream",
     "text": [
      "(6, 8)\n",
      "(8, 9)\n",
      "(13, 8)\n",
      "(10, 11)\n",
      "(11, 12)\n",
      "(12, 8)\n",
      "(13, 14)\n",
      "(14, 15)\n"
     ]
    },
    {
     "data": {
      "text/plain": [
       "0"
      ]
     },
     "execution_count": 28,
     "metadata": {},
     "output_type": "execute_result"
    }
   ],
   "source": [
    "f = h5py.File('/data/gengshan/pose/all.h5', 'r')\n",
    "a = f['U0-4g5iIyqQ_7']['U0-4g5iIyqQ_7_0001360'][:]\n",
    "f.close()\n",
    "\n",
    "im = Image.open('/data2/gengshan/poseTmp/U0-4g5iIyqQ_7/U0-4g5iIyqQ_7_0001360.jpg')\n",
    "# im = Image.new('RGBA', (256, 256), (255, 255, 255, 0))\n",
    "a = a * 4\n",
    "a.resize(16,2)\n",
    "draw = ImageDraw.Draw(im)\n",
    "for it in a:\n",
    "    \n",
    "    draw.point(tuple(it), 'red')\n",
    "\n",
    "for it in pairRef:\n",
    "    print it\n",
    "    draw.line(tuple(a[it[0]]) + tuple(a[it[1]]), fill=1, width=3) \n",
    "im.show()\n"
   ]
  }
 ],
 "metadata": {
  "kernelspec": {
   "display_name": "Python 2",
   "language": "python",
   "name": "python2"
  },
  "language_info": {
   "codemirror_mode": {
    "name": "ipython",
    "version": 2
   },
   "file_extension": ".py",
   "mimetype": "text/x-python",
   "name": "python",
   "nbconvert_exporter": "python",
   "pygments_lexer": "ipython2",
   "version": "2.7.6"
  }
 },
 "nbformat": 4,
 "nbformat_minor": 0
}
