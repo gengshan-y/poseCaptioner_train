{
 "cells": [
  {
   "cell_type": "code",
   "execution_count": 1,
   "metadata": {
    "collapsed": false,
    "scrolled": true
   },
   "outputs": [
    {
     "name": "stdout",
     "output_type": "stream",
     "text": [
      "{'stream': <open file '/home/gengshan/workJul/poseCaptioner_train/log/log_07_28_11_49', mode 'a' at 0x1cbcc00>, 'encoding': None, 'lock': <_RLock owner=None count=0>, 'level': 10, '_name': None, 'delay': 0, 'baseFilename': '/home/gengshan/workJul/poseCaptioner_train/log/log_07_28_11_49', 'mode': 'a', 'filters': [], 'formatter': <logging.Formatter object at 0x1d22550>}\n"
     ]
    }
   ],
   "source": [
    "import json\n",
    "import numpy as np\n",
    "\n",
    "import sys\n",
    "sys.path.insert(0, '/home/gengshan/workJul/mergeCap')\n",
    "import logInit \n",
    "logpath = 'log/log_'\n",
    "logger = logInit.makeLogger(logpath)\n",
    "\n",
    "from dataPreproLib import *"
   ]
  },
  {
   "cell_type": "code",
   "execution_count": 2,
   "metadata": {
    "collapsed": false
   },
   "outputs": [],
   "source": [
    "splitInfoPath = '/data/gengshan/pose_s2vt/splits/splitInfo.json'\n",
    "batchSize = 10\n",
    "\n",
    "splitInfo = json.load(open(splitInfoPath, 'r'))\n",
    "splitData = []\n",
    "splitData.append(splitInfo['train'])\n",
    "splitData.append(splitInfo['val'])\n",
    "splitData.append(splitInfo['test'])\n",
    "splitBatchSize = [int(it) for it in np.multiply(batchSize, splitInfo['info'][0:3])]  #[train, val, test, total num]"
   ]
  },
  {
   "cell_type": "code",
   "execution_count": 3,
   "metadata": {
    "collapsed": false
   },
   "outputs": [
    {
     "name": "stdout",
     "output_type": "stream",
     "text": [
      "0\n",
      "10\n",
      "20\n",
      "30\n",
      "40\n",
      "50\n",
      "60\n",
      "70\n",
      "80\n",
      "90\n",
      "100\n",
      "100 batches loaded\n",
      "lapsed 80.7243959904\n"
     ]
    }
   ],
   "source": [
    "import time\n",
    "beg = time.time()\n",
    "res = True\n",
    "it = 0\n",
    "while res:\n",
    "    res = prepareSplitData(it, splitBatchSize[0], splitData[0], 'haha')\n",
    "    if it % 10 == 0:\n",
    "        print it\n",
    "    it += 1\n",
    "print(str(it - 1) + ' batches loaded')\n",
    "logger.handlers[0].close()\n",
    "print('lapsed ' + str(time.time() - beg))"
   ]
  },
  {
   "cell_type": "code",
   "execution_count": null,
   "metadata": {
    "collapsed": true
   },
   "outputs": [],
   "source": []
  }
 ],
 "metadata": {
  "kernelspec": {
   "display_name": "Python 2",
   "language": "python",
   "name": "python2"
  },
  "language_info": {
   "codemirror_mode": {
    "name": "ipython",
    "version": 2
   },
   "file_extension": ".py",
   "mimetype": "text/x-python",
   "name": "python",
   "nbconvert_exporter": "python",
   "pygments_lexer": "ipython2",
   "version": "2.7.6"
  }
 },
 "nbformat": 4,
 "nbformat_minor": 0
}
