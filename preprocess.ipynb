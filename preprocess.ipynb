{
 "cells": [
  {
   "cell_type": "code",
   "execution_count": 1,
   "metadata": {
    "collapsed": false,
    "scrolled": true
   },
   "outputs": [
    {
     "name": "stdout",
     "output_type": "stream",
     "text": [
      "{'stream': <open file '/home/gengshan/workJul/poseCaptioner_train/log/log_07_29_13_55', mode 'a' at 0x7f57dc623d20>, 'encoding': None, 'lock': <_RLock owner=None count=0>, 'level': 10, '_name': None, 'delay': 0, 'baseFilename': '/home/gengshan/workJul/poseCaptioner_train/log/log_07_29_13_55', 'mode': 'a', 'filters': [], 'formatter': <logging.Formatter object at 0x7f57dc64bb50>}\n"
     ]
    }
   ],
   "source": [
    "import json\n",
    "import numpy as np\n",
    "\n",
    "import sys\n",
    "sys.path.insert(0, '/home/gengshan/workJul/mergeCap')\n",
    "import logInit \n",
    "logpath = 'log/log_'\n",
    "logger = logInit.makeLogger(logpath)\n",
    "\n",
    "from dataPreproLib import *"
   ]
  },
  {
   "cell_type": "code",
   "execution_count": 2,
   "metadata": {
    "collapsed": false
   },
   "outputs": [],
   "source": [
    "splitInfoPath = '/data/gengshan/pose_s2vt/splits/splitInfo.json'\n",
    "batchSize = 10\n",
    "\n",
    "splitInfo = json.load(open(splitInfoPath, 'r'))\n",
    "splitData = []\n",
    "splitData.append(splitInfo['train'])\n",
    "splitData.append(splitInfo['val'])\n",
    "splitData.append(splitInfo['test'])\n",
    "splitBatchSize = [int(it) for it in np.multiply(batchSize, splitInfo['info'][0:3])]  #[train, val, test, total num]"
   ]
  },
  {
   "cell_type": "code",
   "execution_count": 4,
   "metadata": {
    "collapsed": false
   },
   "outputs": [
    {
     "name": "stdout",
     "output_type": "stream",
     "text": [
      "0\n",
      "10\n",
      "20\n",
      "30\n",
      "40\n",
      "50\n",
      "60\n",
      "70\n",
      "80\n",
      "90\n",
      "100\n",
      "100 batches loaded\n",
      "lapsed 53.2141668797\n"
     ]
    }
   ],
   "source": [
    "import os\n",
    "dataName = 'haha'\n",
    "os.system('rm /data/gengshan/pose_s2vt/splits/*' + dataName + '.txt')  # delete before append data\n",
    " \n",
    "import time\n",
    "beg = time.time()\n",
    "res = True\n",
    "it = 0\n",
    "while res:\n",
    "    res = prepareSplitData(it, splitBatchSize[0], splitData[0], 'haha')\n",
    "    if it % 10 == 0:\n",
    "        print it\n",
    "    it += 1\n",
    "print(str(it - 1) + ' batches loaded')\n",
    "logger.handlers[0].close()\n",
    "print('lapsed ' + str(time.time() - beg))"
   ]
  },
  {
   "cell_type": "code",
   "execution_count": null,
   "metadata": {
    "collapsed": true
   },
   "outputs": [],
   "source": []
  },
  {
   "cell_type": "code",
   "execution_count": null,
   "metadata": {
    "collapsed": true
   },
   "outputs": [],
   "source": []
  },
  {
   "cell_type": "code",
   "execution_count": 5,
   "metadata": {
    "collapsed": true
   },
   "outputs": [],
   "source": [
    "import h5py\n",
    "a = h5py.File('/data/gengshan/pose/all.h5')\n",
    "b = h5py.File('/data/gengshan/pose/hg_img_all.h5')\n"
   ]
  },
  {
   "cell_type": "code",
   "execution_count": 10,
   "metadata": {
    "collapsed": false
   },
   "outputs": [
    {
     "data": {
      "text/plain": [
       "array([[[  40.,  124.],\n",
       "        [ 137.,  124.],\n",
       "        [ 144.,  139.],\n",
       "        [ 189.,  154.],\n",
       "        [ 152.,  124.],\n",
       "        [ 152.,  199.],\n",
       "        [ 144.,  139.],\n",
       "        [ 144.,  146.],\n",
       "        [ 144.,  117.],\n",
       "        [ 144.,   57.],\n",
       "        [  62.,  139.],\n",
       "        [  62.,  199.],\n",
       "        [ 107.,  131.],\n",
       "        [ 181.,  154.],\n",
       "        [ 166.,  199.],\n",
       "        [ 144.,  199.]]])"
      ]
     },
     "execution_count": 10,
     "metadata": {},
     "output_type": "execute_result"
    }
   ],
   "source": [
    "b['--u_-w9WCG8_64']['--u_-w9WCG8_64_0000140'][:]"
   ]
  },
  {
   "cell_type": "code",
   "execution_count": 11,
   "metadata": {
    "collapsed": false
   },
   "outputs": [
    {
     "data": {
      "text/plain": [
       "array([[[ 29. ,  34.5],\n",
       "        [ 29. ,  22.5],\n",
       "        [ 26. ,  48.5],\n",
       "        [ 36. ,  31.5],\n",
       "        [ 41. ,  46.5],\n",
       "        [ 34. ,  29.5],\n",
       "        [ 33. ,  24.5],\n",
       "        [ 31. ,  29.5],\n",
       "        [ 31. ,  26.5],\n",
       "        [ 30. ,  18.5],\n",
       "        [ 31. ,  35.5],\n",
       "        [ 24. ,  40.5],\n",
       "        [ 26. ,  30.5],\n",
       "        [ 37. ,  29.5],\n",
       "        [ 40. ,  44.5],\n",
       "        [ 36. ,  37.5]]], dtype=float32)"
      ]
     },
     "execution_count": 11,
     "metadata": {},
     "output_type": "execute_result"
    }
   ],
   "source": [
    "a['--u_-w9WCG8_64']['--u_-w9WCG8_64_0000140'][:]"
   ]
  },
  {
   "cell_type": "code",
   "execution_count": null,
   "metadata": {
    "collapsed": true
   },
   "outputs": [],
   "source": []
  }
 ],
 "metadata": {
  "kernelspec": {
   "display_name": "Python 2",
   "language": "python",
   "name": "python2"
  },
  "language_info": {
   "codemirror_mode": {
    "name": "ipython",
    "version": 2
   },
   "file_extension": ".py",
   "mimetype": "text/x-python",
   "name": "python",
   "nbconvert_exporter": "python",
   "pygments_lexer": "ipython2",
   "version": "2.7.6"
  }
 },
 "nbformat": 4,
 "nbformat_minor": 0
}
