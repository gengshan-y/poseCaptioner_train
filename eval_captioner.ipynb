{
 "cells": [
  {
   "cell_type": "code",
   "execution_count": 7,
   "metadata": {
    "collapsed": false
   },
   "outputs": [],
   "source": [
    "import caffe\n",
    "import sys\n",
    "sys.path.insert(0, '/home/gengshan/workJul/poseCaptioner_train/lib')\n",
    "from dataLoader import fc7FrameSequenceGenerator\n",
    "from hdf5_npstreamsequence_generator import HDF5SequenceWriter\n",
    "from fileWriter import *\n",
    "from utils import *"
   ]
  },
  {
   "cell_type": "code",
   "execution_count": 18,
   "metadata": {
    "collapsed": false
   },
   "outputs": [],
   "source": [
    "MAX_WORDS = 100\n",
    "BUFFER_SIZE = 1 # TEXT streams\n",
    "NUM_OUT_PER_CHUNK = 20\n",
    "START_CHUNK = 0\n",
    "\n",
    "SETTING = '/data/gengshan/pose_s2vt'\n",
    "FRAMEFEAT_FILE_PATTERN = SETTING + '/splits/dataCsv_{0}.txt'\n",
    "SENTS_FILE_PATTERN = SETTING + '/splits/dataTsv_{0}.txt'  # input paths\n",
    "vocab_file = '/data/gengshan/pose_s2vt/whole_vocabulary.txt'                   #### change vocab file\n",
    "\n",
    "LSTM_NET_FILE = 'protoFile/s2vt.words_to_preds.deploy.prototxt'                        #### change feature dim and 2 vocal dim in net file\n",
    "RESULTS_DIR = SETTING + '/results'\n",
    "NET_TAG = 's2vt_asl_pose_iter_8000'                                            #####change model\n",
    "# NET_TAG = 's2vt_asl_pose_iter_40809'\n",
    "# MODEL_FILE = SETTING + '/snapshots/stored/' + NET_TAG +'.caffemodel'\n",
    "MODEL_FILE = SETTING + '/snapshots/' + NET_TAG +'.caffemodel'\n",
    "STRATEGIES = [{'type': 'beam', 'beam_size': 1}]\n",
    "\n",
    "data_split_name = 'train'                                                        #### change sv files\n",
    "\n",
    "filenames =  [FRAMEFEAT_FILE_PATTERN.format(data_split_name),\n",
    "               SENTS_FILE_PATTERN.format(data_split_name)]"
   ]
  },
  {
   "cell_type": "code",
   "execution_count": 19,
   "metadata": {
    "collapsed": false
   },
   "outputs": [
    {
     "name": "stdout",
     "output_type": "stream",
     "text": [
      "Reading frame features from file: /data/gengshan/pose_s2vt/splits/dataCsv_train.txt\n",
      "Reading sentences in: /data/gengshan/pose_s2vt/splits/dataTsv_train.txt\n",
      "Initializing the vocabulary.\n",
      "Initialized vocabulary from file with 13852 unique words (from 13851 total words in dataset).\n"
     ]
    }
   ],
   "source": [
    "fsg = fc7FrameSequenceGenerator(filenames, BUFFER_SIZE,\n",
    "      vocab_file, max_words=MAX_WORDS, align=False, shuffle=False,\n",
    "      pad=False, truncate=False, reverse = False)"
   ]
  },
  {
   "cell_type": "code",
   "execution_count": 20,
   "metadata": {
    "collapsed": false,
    "scrolled": true
   },
   "outputs": [
    {
     "name": "stdout",
     "output_type": "stream",
     "text": [
      "Processed 0/37284 (0.000000%) lines\n",
      "Processed 1/37284 (0.002682%) lines\n",
      "Processed 100/37284 (0.268212%) lines\n",
      "Processed 200/37284 (0.536423%) lines\n",
      "Processed 300/37284 (0.804635%) lines\n",
      "Processed 400/37284 (1.072846%) lines\n",
      "Processed 500/37284 (1.341058%) lines\n",
      "Processed 600/37284 (1.609269%) lines\n",
      "Processed 700/37284 (1.877481%) lines\n",
      "Processed 800/37284 (2.145693%) lines\n",
      "Processed 900/37284 (2.413904%) lines\n",
      "Found 1000 videos with 1000 captions\n",
      "Read 37284 videos pool feats\n"
     ]
    }
   ],
   "source": [
    "video_gt_pairs = all_video_gt_pairs(fsg)  # target sentence\n",
    "print 'Read %d videos pool feats' % len(fsg.vid_framefeats)\n",
    "NUM_CHUNKS = 2  # (len(fsg.vid_framefeats)/NUM_OUT_PER_CHUNK) + 1\n",
    "# add english inverted vocab \n",
    "vocab_list = ['<EOS>'] + fsg.vocabulary_inverted"
   ]
  },
  {
   "cell_type": "code",
   "execution_count": 21,
   "metadata": {
    "collapsed": false
   },
   "outputs": [],
   "source": [
    "caffe.set_mode_gpu()\n",
    "caffe.set_device(0)\n",
    "lstm_net = caffe.Net(LSTM_NET_FILE, MODEL_FILE, caffe.TEST)"
   ]
  },
  {
   "cell_type": "code",
   "execution_count": 22,
   "metadata": {
    "collapsed": false
   },
   "outputs": [
    {
     "name": "stdout",
     "output_type": "stream",
     "text": [
      "Num video features: 48 \n",
      "Dimension of video features: (1, 20)\n",
      "[[1, 1, 1, 1, 1, 0]]\n",
      "[{'caption': [1, 1, 1, 1, 1, 0], 'gt': False, 'prob': [0.66988158, 0.26966834, 0.26535356, 0.35969102, 0.2960045, 0.35198367], 'source': {'beam_size': 1, 'type': 'beam'}}]\n",
      "Generated caption (length 6, log_p = -6.321970, log_p_word = -1.053662):\n",
      "<en_unk> <en_unk> <en_unk> <en_unk> <en_unk>.\n",
      "Num video features: 45 \n",
      "Dimension of video features: (1, 20)\n",
      "[[1, 1, 1, 1, 1, 0]]\n",
      "[{'caption': [1, 1, 1, 1, 1, 0], 'gt': False, 'prob': [0.66435832, 0.26776588, 0.2643593, 0.36212569, 0.29742193, 0.36735117], 'source': {'beam_size': 1, 'type': 'beam'}}]\n",
      "Generated caption (length 6, log_p = -6.286826, log_p_word = -1.047804):\n",
      "<en_unk> <en_unk> <en_unk> <en_unk> <en_unk>.\n",
      "Num video features: 49 \n",
      "Dimension of video features: (1, 20)\n",
      "[[1, 1, 1, 1, 1, 0]]\n",
      "[{'caption': [1, 1, 1, 1, 1, 0], 'gt': False, 'prob': [0.67165667, 0.27029401, 0.26572397, 0.35894775, 0.2956993, 0.34700367], 'source': {'beam_size': 1, 'type': 'beam'}}]\n",
      "Generated caption (length 6, log_p = -6.332961, log_p_word = -1.055493):\n",
      "<en_unk> <en_unk> <en_unk> <en_unk> <en_unk>.\n",
      "Num video features: 45 \n",
      "Dimension of video features: (1, 20)\n",
      "[[1, 1, 1, 1, 1, 0]]\n",
      "[{'caption': [1, 1, 1, 1, 1, 0], 'gt': False, 'prob': [0.66435778, 0.26776651, 0.26435849, 0.36212602, 0.29743057, 0.36731896], 'source': {'beam_size': 1, 'type': 'beam'}}]\n",
      "Generated caption (length 6, log_p = -6.286886, log_p_word = -1.047814):\n",
      "<en_unk> <en_unk> <en_unk> <en_unk> <en_unk>.\n",
      "Num video features: 25 \n",
      "Dimension of video features: (1, 20)\n",
      "[[1, 1, 1, 1, 0]]\n",
      "[{'caption': [1, 1, 1, 1, 0], 'gt': False, 'prob': [0.62816787, 0.2609295, 0.271936, 0.39366743, 0.37592363], 'source': {'beam_size': 1, 'type': 'beam'}}]\n",
      "Generated caption (length 5, log_p = -5.021259, log_p_word = -1.004252):\n",
      "<en_unk> <en_unk> <en_unk> <en_unk>.\n",
      "Num video features: 50 \n",
      "Dimension of video features: (1, 20)\n",
      "[[1, 1, 1, 1, 1, 0]]\n",
      "[{'caption': [1, 1, 1, 1, 1, 0], 'gt': False, 'prob': [0.67340231, 0.27091065, 0.26612055, 0.3582392, 0.29549602, 0.34190524], 'source': {'beam_size': 1, 'type': 'beam'}}]\n",
      "Generated caption (length 6, log_p = -6.344060, log_p_word = -1.057343):\n",
      "<en_unk> <en_unk> <en_unk> <en_unk> <en_unk>.\n",
      "Num video features: 147 \n",
      "Dimension of video features: (1, 20)\n",
      "[[1, 1, 1, 1, 1, 1, 1, 1, 0]]\n",
      "[{'caption': [1, 1, 1, 1, 1, 1, 1, 1, 0], 'gt': False, 'prob': [0.7442199, 0.30811357, 0.33229059, 0.36509728, 0.33500278, 0.32657892, 0.30971906, 0.30239671, 0.3180995], 'source': {'beam_size': 1, 'type': 'beam'}}]\n",
      "Generated caption (length 9, log_p = -9.308239, log_p_word = -1.034249):\n",
      "<en_unk> <en_unk> <en_unk> <en_unk> <en_unk> <en_unk> <en_unk> <en_unk>.\n",
      "Num video features: 53 \n",
      "Dimension of video features: (1, 20)\n",
      "[[1, 1, 1, 1, 1, 0]]\n",
      "[{'caption': [1, 1, 1, 1, 1, 0], 'gt': False, 'prob': [0.67845041, 0.27272534, 0.26746565, 0.35636663, 0.2956394, 0.32460093], 'source': {'beam_size': 1, 'type': 'beam'}}]\n",
      "Generated caption (length 6, log_p = -6.381567, log_p_word = -1.063594):\n",
      "<en_unk> <en_unk> <en_unk> <en_unk> <en_unk>.\n",
      "Num video features: 48 \n",
      "Dimension of video features: (1, 20)\n",
      "[[1, 1, 1, 1, 1, 0]]\n",
      "[{'caption': [1, 1, 1, 1, 1, 0], 'gt': False, 'prob': [0.66985822, 0.26968879, 0.26535213, 0.3596999, 0.29599658, 0.35219288], 'source': {'beam_size': 1, 'type': 'beam'}}]\n",
      "Generated caption (length 6, log_p = -6.321342, log_p_word = -1.053557):\n",
      "<en_unk> <en_unk> <en_unk> <en_unk> <en_unk>.\n",
      "Num video features: 50 \n",
      "Dimension of video features: (1, 20)\n",
      "[[1, 1, 1, 1, 1, 0]]\n",
      "[{'caption': [1, 1, 1, 1, 1, 0], 'gt': False, 'prob': [0.67340237, 0.27091068, 0.26612103, 0.35823941, 0.29549587, 0.34190571], 'source': {'beam_size': 1, 'type': 'beam'}}]\n",
      "Generated caption (length 6, log_p = -6.344057, log_p_word = -1.057343):\n",
      "<en_unk> <en_unk> <en_unk> <en_unk> <en_unk>.\n",
      "Num video features: 49 \n",
      "Dimension of video features: (1, 20)\n",
      "[[1, 1, 1, 1, 1, 0]]\n",
      "[{'caption': [1, 1, 1, 1, 1, 0], 'gt': False, 'prob': [0.67165869, 0.27029282, 0.26572528, 0.35894778, 0.29569969, 0.3470054], 'source': {'beam_size': 1, 'type': 'beam'}}]\n",
      "Generated caption (length 6, log_p = -6.332951, log_p_word = -1.055492):\n",
      "<en_unk> <en_unk> <en_unk> <en_unk> <en_unk>.\n",
      "Num video features: 49 \n",
      "Dimension of video features: (1, 20)\n",
      "[[1, 1, 1, 1, 1, 0]]\n",
      "[{'caption': [1, 1, 1, 1, 1, 0], 'gt': False, 'prob': [0.6716581, 0.27029368, 0.26572537, 0.35894784, 0.29569912, 0.34700596], 'source': {'beam_size': 1, 'type': 'beam'}}]\n",
      "Generated caption (length 6, log_p = -6.332948, log_p_word = -1.055491):\n",
      "<en_unk> <en_unk> <en_unk> <en_unk> <en_unk>.\n",
      "Num video features: 40 \n",
      "Dimension of video features: (1, 20)\n",
      "[[1, 1, 1, 1, 1, 0]]\n",
      "[{'caption': [1, 1, 1, 1, 1, 0], 'gt': False, 'prob': [0.65456772, 0.2645469, 0.26312801, 0.36689931, 0.30112809, 0.39679986], 'source': {'beam_size': 1, 'type': 'beam'}}]\n",
      "Generated caption (length 6, log_p = -6.215842, log_p_word = -1.035974):\n",
      "<en_unk> <en_unk> <en_unk> <en_unk> <en_unk>.\n",
      "Num video features: 69 \n",
      "Dimension of video features: (1, 20)\n",
      "[[1, 1, 1, 1, 1, 1, 0]]\n",
      "[{'caption': [1, 1, 1, 1, 1, 1, 0], 'gt': False, 'prob': [0.70086932, 0.28132528, 0.28209868, 0.35827979, 0.31733418, 0.31566116, 0.3607524], 'source': {'beam_size': 1, 'type': 'beam'}}]\n",
      "Generated caption (length 7, log_p = -7.236066, log_p_word = -1.033724):\n",
      "<en_unk> <en_unk> <en_unk> <en_unk> <en_unk> <en_unk>.\n",
      "Num video features: 70 \n",
      "Dimension of video features: (1, 20)\n",
      "[[1, 1, 1, 1, 1, 1, 0]]\n",
      "[{'caption': [1, 1, 1, 1, 1, 1, 0], 'gt': False, 'prob': [0.70203024, 0.28175876, 0.28349048, 0.3592667, 0.31862459, 0.3163932, 0.35729578], 'source': {'beam_size': 1, 'type': 'beam'}}]\n",
      "Generated caption (length 7, log_p = -7.228452, log_p_word = -1.032636):\n",
      "<en_unk> <en_unk> <en_unk> <en_unk> <en_unk> <en_unk>.\n",
      "Num video features: 75 \n",
      "Dimension of video features: (1, 20)\n",
      "[[1, 1, 1, 1, 1, 1, 0]]\n",
      "[{'caption': [1, 1, 1, 1, 1, 1, 0], 'gt': False, 'prob': [0.7073769, 0.28373009, 0.29045528, 0.36415398, 0.32277814, 0.31900415, 0.34195495], 'source': {'beam_size': 1, 'type': 'beam'}}]\n",
      "Generated caption (length 7, log_p = -7.198825, log_p_word = -1.028404):\n",
      "<en_unk> <en_unk> <en_unk> <en_unk> <en_unk> <en_unk>.\n",
      "Num video features: 18 \n",
      "Dimension of video features: (1, 20)\n",
      "[[1, 1, 1, 1, 0]]\n",
      "[{'caption': [1, 1, 1, 1, 0], 'gt': False, 'prob': [0.65752596, 0.30164289, 0.29666179, 0.39510733, 0.47488248], 'source': {'beam_size': 1, 'type': 'beam'}}]\n",
      "Generated caption (length 5, log_p = -4.506231, log_p_word = -0.901246):\n",
      "<en_unk> <en_unk> <en_unk> <en_unk>.\n",
      "Num video features: 23 \n",
      "Dimension of video features: (1, 20)\n",
      "[[1, 1, 1, 1, 0]]\n",
      "[{'caption': [1, 1, 1, 1, 0], 'gt': False, 'prob': [0.62985957, 0.26418328, 0.27868292, 0.39694595, 0.40195346], 'source': {'beam_size': 1, 'type': 'beam'}}]\n",
      "Generated caption (length 5, log_p = -4.906425, log_p_word = -0.981285):\n",
      "<en_unk> <en_unk> <en_unk> <en_unk>.\n",
      "Num video features: 109 \n",
      "Dimension of video features: (1, 20)\n",
      "[[1, 1, 1, 1, 1, 1, 1, 0]]\n",
      "[{'caption': [1, 1, 1, 1, 1, 1, 1, 0], 'gt': False, 'prob': [0.73161179, 0.29653686, 0.31721374, 0.36549211, 0.32931367, 0.32167119, 0.303936, 0.332427], 'source': {'beam_size': 1, 'type': 'beam'}}]\n",
      "Generated caption (length 8, log_p = -8.220022, log_p_word = -1.027503):\n",
      "<en_unk> <en_unk> <en_unk> <en_unk> <en_unk> <en_unk> <en_unk>.\n",
      "Num video features: 29 \n",
      "Dimension of video features: (1, 20)\n",
      "[[1, 1, 1, 1, 0]]\n",
      "[{'caption': [1, 1, 1, 1, 0], 'gt': False, 'prob': [0.63238317, 0.25944427, 0.26482475, 0.38457361, 0.33115226], 'source': {'beam_size': 1, 'type': 'beam'}}]\n",
      "Generated caption (length 5, log_p = -5.196957, log_p_word = -1.039391):\n",
      "<en_unk> <en_unk> <en_unk> <en_unk>.\n",
      "Num video features: 36 \n",
      "Dimension of video features: (1, 20)\n",
      "[[1, 1, 1, 1, 1, 0]]\n",
      "[{'caption': [1, 1, 1, 1, 1, 0], 'gt': False, 'prob': [0.64630741, 0.26210585, 0.26263812, 0.3717055, 0.30471545, 0.42423987], 'source': {'beam_size': 1, 'type': 'beam'}}]\n",
      "Generated caption (length 6, log_p = -6.147952, log_p_word = -1.024659):\n",
      "<en_unk> <en_unk> <en_unk> <en_unk> <en_unk>.\n",
      "Num video features: 49 \n",
      "Dimension of video features: (1, 20)\n",
      "[[1, 1, 1, 1, 1, 0]]\n",
      "[{'caption': [1, 1, 1, 1, 1, 0], 'gt': False, 'prob': [0.67165697, 0.27029437, 0.265724, 0.35894811, 0.29570007, 0.34700608], 'source': {'beam_size': 1, 'type': 'beam'}}]\n",
      "Generated caption (length 6, log_p = -6.332948, log_p_word = -1.055491):\n",
      "<en_unk> <en_unk> <en_unk> <en_unk> <en_unk>.\n",
      "Num video features: 100 \n",
      "Dimension of video features: (1, 20)\n",
      "[[1, 1, 1, 1, 1, 1, 1, 0]]\n",
      "[{'caption': [1, 1, 1, 1, 1, 1, 1, 0], 'gt': False, 'prob': [0.72622246, 0.29243881, 0.31163615, 0.3660323, 0.32790539, 0.32102403, 0.30241695, 0.34577027], 'source': {'beam_size': 1, 'type': 'beam'}}]\n",
      "Generated caption (length 8, log_p = -8.229550, log_p_word = -1.028694):\n",
      "<en_unk> <en_unk> <en_unk> <en_unk> <en_unk> <en_unk> <en_unk>.\n",
      "Num video features: 50 \n",
      "Dimension of video features: (1, 20)\n",
      "[[1, 1, 1, 1, 1, 0]]\n",
      "[{'caption': [1, 1, 1, 1, 1, 0], 'gt': False, 'prob': [0.67340213, 0.27091068, 0.2661207, 0.35823923, 0.29549602, 0.34190595], 'source': {'beam_size': 1, 'type': 'beam'}}]\n",
      "Generated caption (length 6, log_p = -6.344058, log_p_word = -1.057343):\n",
      "<en_unk> <en_unk> <en_unk> <en_unk> <en_unk>.\n",
      "Num video features: 132 \n",
      "Dimension of video features: (1, 20)\n",
      "[[1, 1, 1, 1, 1, 1, 1, 0]]\n",
      "[{'caption': [1, 1, 1, 1, 1, 1, 1, 0], 'gt': False, 'prob': [0.74032527, 0.30411676, 0.32701507, 0.36502963, 0.33289883, 0.32449728, 0.30739653, 0.30589014], 'source': {'beam_size': 1, 'type': 'beam'}}]\n",
      "Generated caption (length 8, log_p = -8.206076, log_p_word = -1.025759):\n",
      "<en_unk> <en_unk> <en_unk> <en_unk> <en_unk> <en_unk> <en_unk>.\n",
      "Num video features: 57 \n",
      "Dimension of video features: (1, 20)\n",
      "[[1, 1, 1, 1, 1, 0]]\n",
      "[{'caption': [1, 1, 1, 1, 1, 0], 'gt': False, 'prob': [0.6847567, 0.27505571, 0.26971933, 0.35465506, 0.29809296, 0.29759607], 'source': {'beam_size': 1, 'type': 'beam'}}]\n",
      "Generated caption (length 6, log_p = -6.438824, log_p_word = -1.073137):\n",
      "<en_unk> <en_unk> <en_unk> <en_unk> <en_unk>.\n",
      "Num video features: 63 \n",
      "Dimension of video features: (1, 20)\n",
      "[[1, 1, 1, 1, 1, 1, 0]]\n",
      "[{'caption': [1, 1, 1, 1, 1, 1, 0], 'gt': False, 'prob': [0.69553554, 0.27855751, 0.27512422, 0.35448152, 0.30680275, 0.30850551, 0.38582325], 'source': {'beam_size': 1, 'type': 'beam'}}]\n",
      "Generated caption (length 7, log_p = -7.278777, log_p_word = -1.039825):\n",
      "<en_unk> <en_unk> <en_unk> <en_unk> <en_unk> <en_unk>.\n",
      "Num video features: 15 \n",
      "Dimension of video features: (1, 20)\n",
      "[[1, 1, 1, 1, 0]]\n",
      "[{'caption': [1, 1, 1, 1, 0], 'gt': False, 'prob': [0.67685783, 0.34378156, 0.28991026, 0.383423, 0.51627332], 'source': {'beam_size': 1, 'type': 'beam'}}]\n",
      "Generated caption (length 5, log_p = -4.315962, log_p_word = -0.863192):\n",
      "<en_unk> <en_unk> <en_unk> <en_unk>.\n",
      "Num video features: 67 \n",
      "Dimension of video features: (1, 20)\n",
      "[[1, 1, 1, 1, 1, 1, 0]]\n",
      "[{'caption': [1, 1, 1, 1, 1, 1, 0], 'gt': False, 'prob': [0.69846213, 0.28039822, 0.27938756, 0.35655951, 0.31422019, 0.31395742, 0.36813685], 'source': {'beam_size': 1, 'type': 'beam'}}]\n",
      "Generated caption (length 7, log_p = -7.252288, log_p_word = -1.036041):\n",
      "<en_unk> <en_unk> <en_unk> <en_unk> <en_unk> <en_unk>.\n",
      "Num video features: 92 \n",
      "Dimension of video features: (1, 20)\n",
      "[[1, 1, 1, 1, 1, 1, 0]]\n",
      "[{'caption': [1, 1, 1, 1, 1, 1, 0], 'gt': False, 'prob': [0.72188544, 0.2896412, 0.3075664, 0.36656848, 0.32683229, 0.32058519, 0.30213609], 'source': {'beam_size': 1, 'type': 'beam'}}]\n",
      "Generated caption (length 7, log_p = -7.200428, log_p_word = -1.028633):\n",
      "<en_unk> <en_unk> <en_unk> <en_unk> <en_unk> <en_unk>.\n",
      "Num video features: 21 \n",
      "Dimension of video features: (1, 20)\n",
      "[[1, 1, 1, 1, 0]]\n",
      "[{'caption': [1, 1, 1, 1, 0], 'gt': False, 'prob': [0.63684511, 0.27180135, 0.28727627, 0.39830926, 0.43020445], 'source': {'beam_size': 1, 'type': 'beam'}}]\n",
      "Generated caption (length 5, log_p = -4.765245, log_p_word = -0.953049):\n",
      "<en_unk> <en_unk> <en_unk> <en_unk>.\n",
      "Num video features: 19 \n",
      "Dimension of video features: (1, 20)\n",
      "[[1, 1, 1, 1, 0]]\n",
      "[{'caption': [1, 1, 1, 1, 0], 'gt': False, 'prob': [0.64982116, 0.2885319, 0.29482567, 0.39694738, 0.46004245], 'source': {'beam_size': 1, 'type': 'beam'}}]\n",
      "Generated caption (length 5, log_p = -4.595767, log_p_word = -0.919153):\n",
      "<en_unk> <en_unk> <en_unk> <en_unk>.\n",
      "Num video features: 50 \n",
      "Dimension of video features: (1, 20)\n",
      "[[1, 1, 1, 1, 1, 0]]\n",
      "[{'caption': [1, 1, 1, 1, 1, 0], 'gt': False, 'prob': [0.6734094, 0.27092102, 0.26610836, 0.35823491, 0.29548621, 0.3419112], 'source': {'beam_size': 1, 'type': 'beam'}}]\n",
      "Generated caption (length 6, log_p = -6.344085, log_p_word = -1.057348):\n",
      "<en_unk> <en_unk> <en_unk> <en_unk> <en_unk>.\n",
      "Num video features: 96 \n",
      "Dimension of video features: (1, 20)\n",
      "[[1, 1, 1, 1, 1, 1, 1, 0]]\n",
      "[{'caption': [1, 1, 1, 1, 1, 1, 1, 0], 'gt': False, 'prob': [0.72448313, 0.29149678, 0.3100487, 0.36621848, 0.32733241, 0.32079425, 0.30175602, 0.35183448], 'source': {'beam_size': 1, 'type': 'beam'}}]\n",
      "Generated caption (length 8, log_p = -8.227040, log_p_word = -1.028380):\n",
      "<en_unk> <en_unk> <en_unk> <en_unk> <en_unk> <en_unk> <en_unk>.\n",
      "Num video features: 25 \n",
      "Dimension of video features: (1, 20)\n",
      "[[1, 1, 1, 1, 0]]\n",
      "[{'caption': [1, 1, 1, 1, 0], 'gt': False, 'prob': [0.62816781, 0.26092944, 0.27193588, 0.39366791, 0.3759236], 'source': {'beam_size': 1, 'type': 'beam'}}]\n",
      "Generated caption (length 5, log_p = -5.021259, log_p_word = -1.004252):\n",
      "<en_unk> <en_unk> <en_unk> <en_unk>.\n",
      "Num video features: 44 \n",
      "Dimension of video features: (1, 20)\n",
      "[[1, 1, 1, 1, 1, 0]]\n",
      "[{'caption': [1, 1, 1, 1, 1, 0], 'gt': False, 'prob': [0.66225648, 0.26701051, 0.26415223, 0.36297163, 0.29806167, 0.37302986], 'source': {'beam_size': 1, 'type': 'beam'}}]\n",
      "Generated caption (length 6, log_p = -6.273782, log_p_word = -1.045630):\n",
      "<en_unk> <en_unk> <en_unk> <en_unk> <en_unk>.\n",
      "Num video features: 63 \n",
      "Dimension of video features: (1, 20)\n",
      "[[1, 1, 1, 1, 1, 1, 0]]\n",
      "[{'caption': [1, 1, 1, 1, 1, 1, 0], 'gt': False, 'prob': [0.69332373, 0.27836812, 0.27466497, 0.3545537, 0.30674943, 0.30876625, 0.3851105], 'source': {'beam_size': 1, 'type': 'beam'}}]\n",
      "Generated caption (length 7, log_p = -7.285288, log_p_word = -1.040755):\n",
      "<en_unk> <en_unk> <en_unk> <en_unk> <en_unk> <en_unk>.\n",
      "Num video features: 63 \n",
      "Dimension of video features: (1, 20)\n",
      "[[1, 1, 1, 1, 1, 1, 0]]\n",
      "[{'caption': [1, 1, 1, 1, 1, 1, 0], 'gt': False, 'prob': [0.69332516, 0.27836761, 0.27466652, 0.35455468, 0.30674985, 0.30876464, 0.38511273], 'source': {'beam_size': 1, 'type': 'beam'}}]\n",
      "Generated caption (length 7, log_p = -7.285277, log_p_word = -1.040754):\n",
      "<en_unk> <en_unk> <en_unk> <en_unk> <en_unk> <en_unk>.\n",
      "Num video features: 49 \n",
      "Dimension of video features: (1, 20)\n",
      "[[1, 1, 1, 1, 1, 0]]\n",
      "[{'caption': [1, 1, 1, 1, 1, 0], 'gt': False, 'prob': [0.67231625, 0.27003807, 0.26632041, 0.35890797, 0.29557037, 0.34691006], 'source': {'beam_size': 1, 'type': 'beam'}}]\n",
      "Generated caption (length 6, log_p = -6.331501, log_p_word = -1.055250):\n",
      "<en_unk> <en_unk> <en_unk> <en_unk> <en_unk>.\n",
      "Num video features: 14 \n",
      "Dimension of video features: (1, 20)\n",
      "[[1, 1, 0]]\n",
      "[{'caption': [1, 1, 0], 'gt': False, 'prob': [0.68141866, 0.35361052, 0.31526619], 'source': {'beam_size': 1, 'type': 'beam'}}]\n",
      "Generated caption (length 3, log_p = -2.577476, log_p_word = -0.859159):\n",
      "<en_unk> <en_unk>.\n"
     ]
    }
   ],
   "source": [
    "for c in range(START_CHUNK, NUM_CHUNKS):\n",
    "    chunk_start = c * NUM_OUT_PER_CHUNK\n",
    "    chunk_end = (c + 1) * NUM_OUT_PER_CHUNK\n",
    "    chunk = video_gt_pairs.keys()[chunk_start:chunk_end]\n",
    "    html_out_filename = '%s/%s.%s.%d_to_%d.html' % \\\n",
    "      (RESULTS_DIR, data_split_name, NET_TAG, chunk_start, chunk_end)\n",
    "    text_out_filename = '%s/%s.%s_' % \\\n",
    "      (RESULTS_DIR, data_split_name, NET_TAG)\n",
    "\n",
    "    if not os.path.exists(RESULTS_DIR): os.makedirs(RESULTS_DIR)\n",
    "    outputs = run_pred_iters(lstm_net, chunk, video_gt_pairs,\n",
    "                fsg, strategies=STRATEGIES, display_vocab=vocab_list)\n",
    "\n",
    "    html_out = to_html_output(outputs, vocab_list)\n",
    "    html_out_file = open(html_out_filename, 'w')\n",
    "    html_out_file.write(html_out)\n",
    "    html_out_file.close() \n",
    "    # break\n",
    "            "
   ]
  },
  {
   "cell_type": "code",
   "execution_count": 6,
   "metadata": {
    "collapsed": false
   },
   "outputs": [
    {
     "ename": "KeyError",
     "evalue": "'--u_-w9WCG8_14'",
     "output_type": "error",
     "traceback": [
      "\u001b[1;31m---------------------------------------------------------------------------\u001b[0m",
      "\u001b[1;31mKeyError\u001b[0m                                  Traceback (most recent call last)",
      "\u001b[1;32m<ipython-input-6-ce28387ec3ec>\u001b[0m in \u001b[0;36m<module>\u001b[1;34m()\u001b[0m\n\u001b[1;32m----> 1\u001b[1;33m \u001b[0mvocab_inds_to_sentence\u001b[0m\u001b[1;33m(\u001b[0m\u001b[0mvocab_list\u001b[0m\u001b[1;33m,\u001b[0m \u001b[0moutputs\u001b[0m\u001b[1;33m[\u001b[0m\u001b[1;34m'--u_-w9WCG8_14'\u001b[0m\u001b[1;33m]\u001b[0m\u001b[1;33m[\u001b[0m\u001b[1;36m0\u001b[0m\u001b[1;33m]\u001b[0m\u001b[1;33m[\u001b[0m\u001b[1;34m'caption'\u001b[0m\u001b[1;33m]\u001b[0m\u001b[1;33m)\u001b[0m\u001b[1;33m\u001b[0m\u001b[0m\n\u001b[0m",
      "\u001b[1;31mKeyError\u001b[0m: '--u_-w9WCG8_14'"
     ]
    }
   ],
   "source": [
    "vocab_inds_to_sentence(vocab_list, outputs['--u_-w9WCG8_14'][0]['caption'])"
   ]
  },
  {
   "cell_type": "code",
   "execution_count": 39,
   "metadata": {
    "collapsed": false
   },
   "outputs": [],
   "source": [
    "for it, frame in enumerate(x):\n",
    "    if it == 0:\n",
    "        ifSeq = 0\n",
    "    else:\n",
    "        ifSeq = 1\n",
    "    lstm_net.forward(frames_fc7=frame, cont_sentence=np.array([ifSeq]), input_sentence=np.array([0]), stage_indicator=np.array([0]))  # 0 is EOS, 1 is unique token"
   ]
  },
  {
   "cell_type": "code",
   "execution_count": 15,
   "metadata": {
    "collapsed": false
   },
   "outputs": [],
   "source": [
    "x = video_to_descriptor('--u_-w9WCG8_1', fsg)"
   ]
  },
  {
   "cell_type": "code",
   "execution_count": 80,
   "metadata": {
    "collapsed": false
   },
   "outputs": [
    {
     "data": {
      "text/plain": [
       "(100, 1)"
      ]
     },
     "execution_count": 80,
     "metadata": {},
     "output_type": "execute_result"
    }
   ],
   "source": [
    "lstm_net.blobs['cont_sentence'].data.shape"
   ]
  },
  {
   "cell_type": "code",
   "execution_count": 18,
   "metadata": {
    "collapsed": false
   },
   "outputs": [
    {
     "data": {
      "text/plain": [
       "(1, 20)"
      ]
     },
     "execution_count": 18,
     "metadata": {},
     "output_type": "execute_result"
    }
   ],
   "source": [
    "x[1].shape"
   ]
  },
  {
   "cell_type": "code",
   "execution_count": 25,
   "metadata": {
    "collapsed": false
   },
   "outputs": [
    {
     "ename": "KeyError",
     "evalue": "'FvWTyzjD690_235'",
     "output_type": "error",
     "traceback": [
      "\u001b[1;31m---------------------------------------------------------------------------\u001b[0m",
      "\u001b[1;31mKeyError\u001b[0m                                  Traceback (most recent call last)",
      "\u001b[1;32m<ipython-input-25-ac87a330cd1a>\u001b[0m in \u001b[0;36m<module>\u001b[1;34m()\u001b[0m\n\u001b[1;32m----> 1\u001b[1;33m \u001b[0mvideo_gt_pairs\u001b[0m\u001b[1;33m[\u001b[0m\u001b[1;34m'FvWTyzjD690_235'\u001b[0m\u001b[1;33m]\u001b[0m\u001b[1;33m.\u001b[0m\u001b[0mshape\u001b[0m\u001b[1;33m\u001b[0m\u001b[0m\n\u001b[0m",
      "\u001b[1;31mKeyError\u001b[0m: 'FvWTyzjD690_235'"
     ]
    }
   ],
   "source": [
    "video_gt_pairs['FvWTyzjD690_235'].shape"
   ]
  },
  {
   "cell_type": "code",
   "execution_count": 18,
   "metadata": {
    "collapsed": true
   },
   "outputs": [],
   "source": [
    "import h5py\n",
    "data = h5py.File('/data/gengshan/pose_s2vt/hdf5/buffer_32_s2vt_100/test_batches/batch_0.h5', 'r')"
   ]
  },
  {
   "cell_type": "code",
   "execution_count": 34,
   "metadata": {
    "collapsed": false
   },
   "outputs": [
    {
     "data": {
      "text/plain": [
       "[0.0,\n",
       " 1.0,\n",
       " 1.0,\n",
       " 1.0,\n",
       " 1.0,\n",
       " 1.0,\n",
       " 1.0,\n",
       " 1.0,\n",
       " 1.0,\n",
       " 1.0,\n",
       " 1.0,\n",
       " 1.0,\n",
       " 1.0,\n",
       " 1.0,\n",
       " 1.0,\n",
       " 1.0,\n",
       " 1.0,\n",
       " 1.0,\n",
       " 1.0,\n",
       " 1.0,\n",
       " 1.0,\n",
       " 1.0,\n",
       " 1.0,\n",
       " 1.0,\n",
       " 1.0,\n",
       " 1.0,\n",
       " 1.0,\n",
       " 1.0,\n",
       " 1.0,\n",
       " 1.0,\n",
       " 1.0,\n",
       " 1.0,\n",
       " 0.0,\n",
       " 0.0,\n",
       " 0.0,\n",
       " 0.0,\n",
       " 0.0,\n",
       " 0.0,\n",
       " 0.0,\n",
       " 0.0,\n",
       " 0.0,\n",
       " 0.0,\n",
       " 0.0,\n",
       " 0.0,\n",
       " 0.0,\n",
       " 0.0,\n",
       " 0.0,\n",
       " 0.0,\n",
       " 0.0,\n",
       " 0.0,\n",
       " 0.0,\n",
       " 0.0,\n",
       " 0.0,\n",
       " 0.0,\n",
       " 0.0,\n",
       " 0.0,\n",
       " 0.0,\n",
       " 0.0,\n",
       " 0.0,\n",
       " 0.0,\n",
       " 0.0,\n",
       " 0.0,\n",
       " 0.0,\n",
       " 0.0,\n",
       " 0.0,\n",
       " 0.0,\n",
       " 0.0,\n",
       " 0.0,\n",
       " 0.0,\n",
       " 0.0,\n",
       " 0.0,\n",
       " 0.0,\n",
       " 0.0,\n",
       " 0.0,\n",
       " 0.0,\n",
       " 0.0,\n",
       " 0.0,\n",
       " 0.0,\n",
       " 0.0,\n",
       " 0.0,\n",
       " 0.0,\n",
       " 0.0,\n",
       " 0.0,\n",
       " 0.0,\n",
       " 0.0,\n",
       " 0.0,\n",
       " 0.0,\n",
       " 0.0,\n",
       " 0.0,\n",
       " 0.0,\n",
       " 0.0,\n",
       " 0.0,\n",
       " 0.0,\n",
       " 0.0,\n",
       " 0.0,\n",
       " 0.0,\n",
       " 0.0,\n",
       " 0.0,\n",
       " 0.0,\n",
       " 0.0]"
      ]
     },
     "execution_count": 34,
     "metadata": {},
     "output_type": "execute_result"
    }
   ],
   "source": [
    "list(data['cont_sentence'][:100, 0])"
   ]
  },
  {
   "cell_type": "code",
   "execution_count": 39,
   "metadata": {
    "collapsed": false
   },
   "outputs": [
    {
     "data": {
      "text/plain": [
       "'01 01 01 01 01 01 01 01 01 01 01 01 01 01 01 01 01 01 01 01 01 01 01 01 01 01 01 have the same <en_unk> <EOS> 01 01 01 01 01 01 01 01 01 01 01 01 01 01 01 01 01 01 01 01 01 01 01 01 01 01 01 01 01 01 01 01 01 01 01 01 01 01 01 01 01 01 01 01 01 01 01 01 01 01 01 01 01 01 01 01 01 01 01 01 01 01 01 01 01 01 01 01...'"
      ]
     },
     "execution_count": 39,
     "metadata": {},
     "output_type": "execute_result"
    }
   ],
   "source": [
    "vocab_inds_to_sentence(vocab_list, [int(x) for x in data['target_sentence'][:100,0]])"
   ]
  },
  {
   "cell_type": "code",
   "execution_count": 88,
   "metadata": {
    "collapsed": false
   },
   "outputs": [],
   "source": [
    "probs = lstm_net.forward(frames_fc7=data['frame_fc7'][:100, :1, :], \\\n",
    "                 cont_sentence=data['cont_sentence'][:100, :1],\\\n",
    "                 input_sentence=data['input_sentence'][:100, :1],\\\n",
    "                 stage_indicator=data['stage_indicator'][:100, :1])['probs']"
   ]
  }
 ],
 "metadata": {
  "kernelspec": {
   "display_name": "Python 2",
   "language": "python",
   "name": "python2"
  },
  "language_info": {
   "codemirror_mode": {
    "name": "ipython",
    "version": 2
   },
   "file_extension": ".py",
   "mimetype": "text/x-python",
   "name": "python",
   "nbconvert_exporter": "python",
   "pygments_lexer": "ipython2",
   "version": "2.7.6"
  }
 },
 "nbformat": 4,
 "nbformat_minor": 0
}
