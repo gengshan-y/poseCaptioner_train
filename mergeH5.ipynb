{
 "cells": [
  {
   "cell_type": "code",
   "execution_count": 1,
   "metadata": {
    "collapsed": false
   },
   "outputs": [],
   "source": [
    "import os\n",
    "from h5Lib import *"
   ]
  },
  {
   "cell_type": "code",
   "execution_count": 3,
   "metadata": {
    "collapsed": false
   },
   "outputs": [],
   "source": [
    "targetPath = '/data/gengshan/pose/hg_img_all.h5'\n",
    "fileList = []\n",
    "fileList.append('/data/gengshan/pose/hg_img1.h5')\n",
    "fileList.append('/data/gengshan/pose/hg_img2.h5')"
   ]
  },
  {
   "cell_type": "code",
   "execution_count": 5,
   "metadata": {
    "collapsed": false
   },
   "outputs": [
    {
     "name": "stdout",
     "output_type": "stream",
     "text": [
      "/data/gengshan/pose/hg_img1.h5 info:\n",
      "with 1064 clips\n",
      "with 30470 frames\n",
      "0 finished\n",
      "lapsed 3.19480895996e-05\n",
      "100 finished\n",
      "lapsed 0.00452995300293\n",
      "200 finished\n",
      "lapsed 0.00890707969666\n",
      "300 finished\n",
      "lapsed 0.0133099555969\n",
      "400 finished\n",
      "lapsed 0.0176820755005\n",
      "500 finished\n",
      "lapsed 0.0221390724182\n",
      "600 finished\n",
      "lapsed 0.0266060829163\n",
      "700 finished\n",
      "lapsed 0.0310699939728\n",
      "800 finished\n",
      "lapsed 0.0354819297791\n",
      "900 finished\n",
      "lapsed 0.039941072464\n",
      "1000 finished\n",
      "lapsed 0.0443968772888\n",
      "/data/gengshan/pose/hg_img2.h5 info:\n",
      "with 1061 clips\n",
      "with 29530 frames\n",
      "0 finished\n",
      "lapsed 2.69412994385e-05\n",
      "100 finished\n",
      "lapsed 4.11938905716\n",
      "200 finished\n",
      "lapsed 6.22631382942\n",
      "300 finished\n",
      "lapsed 9.12538290024\n",
      "400 finished\n",
      "lapsed 11.6363120079\n",
      "500 finished\n",
      "lapsed 13.9064259529\n",
      "600 finished\n",
      "lapsed 17.9865448475\n",
      "700 finished\n",
      "lapsed 20.832130909\n",
      "800 finished\n",
      "lapsed 23.8644049168\n",
      "900 finished\n",
      "lapsed 26.5674190521\n",
      "1000 finished\n",
      "lapsed 29.7275030613\n",
      "with 1065 clips\n",
      "with 60000 frames\n"
     ]
    }
   ],
   "source": [
    "# checkKeys(targetPath)\n",
    "for it in fileList:\n",
    "    mergeExtH5(originalPath=it, targetPath=targetPath)\n",
    "checkKeys(targetPath)"
   ]
  },
  {
   "cell_type": "code",
   "execution_count": 90,
   "metadata": {
    "collapsed": false
   },
   "outputs": [
    {
     "ename": "AssertionError",
     "evalue": "",
     "output_type": "error",
     "traceback": [
      "\u001b[1;31m---------------------------------------------------------------------------\u001b[0m",
      "\u001b[1;31mAssertionError\u001b[0m                            Traceback (most recent call last)",
      "\u001b[1;32m<ipython-input-90-5f9236458643>\u001b[0m in \u001b[0;36m<module>\u001b[1;34m()\u001b[0m\n\u001b[0;32m      5\u001b[0m \u001b[1;33m\u001b[0m\u001b[0m\n\u001b[0;32m      6\u001b[0m \u001b[1;33m\u001b[0m\u001b[0m\n\u001b[1;32m----> 7\u001b[1;33m \u001b[1;32massert\u001b[0m\u001b[1;33m(\u001b[0m\u001b[0mlen\u001b[0m\u001b[1;33m(\u001b[0m\u001b[1;33m(\u001b[0m\u001b[0mset\u001b[0m\u001b[1;33m(\u001b[0m\u001b[0mclipTitles\u001b[0m\u001b[1;33m)\u001b[0m \u001b[1;33m-\u001b[0m \u001b[0mset\u001b[0m\u001b[1;33m(\u001b[0m\u001b[0ma\u001b[0m\u001b[1;33m.\u001b[0m\u001b[0mkeys\u001b[0m\u001b[1;33m(\u001b[0m\u001b[1;33m)\u001b[0m\u001b[1;33m)\u001b[0m\u001b[1;33m)\u001b[0m\u001b[1;33m)\u001b[0m \u001b[1;33m==\u001b[0m \u001b[1;36m0\u001b[0m\u001b[1;33m)\u001b[0m\u001b[1;33m\u001b[0m\u001b[0m\n\u001b[0m\u001b[0;32m      8\u001b[0m \u001b[0ma\u001b[0m\u001b[1;33m.\u001b[0m\u001b[0mclose\u001b[0m\u001b[1;33m(\u001b[0m\u001b[1;33m)\u001b[0m\u001b[1;33m\u001b[0m\u001b[0m\n",
      "\u001b[1;31mAssertionError\u001b[0m: "
     ]
    }
   ],
   "source": [
    "''' check clip num '''\n",
    "with open('/home/gengshan/public_html/data/clipTitles.txt') as f:\n",
    "    clipTitles = [it[:-1] for it in f.readlines()]\n",
    "    \n",
    "a = h5py.File('/data/gengshan/pose/all.h5', 'r')\n",
    "\n",
    "assert(len((set(clipTitles) - set(a.keys()))) == 0)  \n",
    "a.close()\n",
    "\n",
    "''' check image '''\n",
    "with open('/home/gengshan/workJul/darknet/results/comp4_det_test_person.txt', 'r') as f:\n",
    "    imgTitles = [it.split('\\t')[0].split('/')[-1][:-4] for it in f.readlines()]\n",
    "    \n",
    "a = h5py.File('/data/gengshan/pose/all.h5', 'r')\n",
    "accum = []\n",
    "for it in a.keys():\n",
    "    accum += a[it].keys()\n",
    "a.close()\n",
    "\n",
    "assert(len(set(imgTitles) - set(accum)) == 0)"
   ]
  }
 ],
 "metadata": {
  "kernelspec": {
   "display_name": "Python 2",
   "language": "python",
   "name": "python2"
  },
  "language_info": {
   "codemirror_mode": {
    "name": "ipython",
    "version": 2
   },
   "file_extension": ".py",
   "mimetype": "text/x-python",
   "name": "python",
   "nbconvert_exporter": "python",
   "pygments_lexer": "ipython2",
   "version": "2.7.6"
  }
 },
 "nbformat": 4,
 "nbformat_minor": 0
}
