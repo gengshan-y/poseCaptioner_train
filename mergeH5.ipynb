{
 "cells": [
  {
   "cell_type": "code",
   "execution_count": 52,
   "metadata": {
    "collapsed": false
   },
   "outputs": [],
   "source": [
    "import h5py\n",
    "import os"
   ]
  },
  {
   "cell_type": "code",
   "execution_count": 53,
   "metadata": {
    "collapsed": false
   },
   "outputs": [],
   "source": [
    "def checkKeys(h5Path):\n",
    "    h5File = h5py.File(h5Path, 'r')\n",
    "    print('with ' + str(len(h5File.keys())) + ' clips')\n",
    "    \n",
    "    accum = 0\n",
    "    for it in h5File.keys():\n",
    "        accum += len(h5File[it].keys())\n",
    "    print('with ' + str(accum) + ' frames')\n",
    "    h5File.close()"
   ]
  },
  {
   "cell_type": "code",
   "execution_count": 54,
   "metadata": {
    "collapsed": false
   },
   "outputs": [],
   "source": [
    "''' merge the original h5 file to the target h5 file, using append mode '''\n",
    "def mergeH5(originalPath, targetPath):\n",
    "    ''' print info about target path '''\n",
    "    checkKeys(originalPath)\n",
    "    \n",
    "    ''' open files and store keys '''\n",
    "    newFile = h5py.File(targetPath)  # use 'a' may cause error, use default append instead\n",
    "    oriFile = h5py.File(originalPath, 'r')  \n",
    "    newClipTitles = newFile.keys()  # store it to avoid retriving every time\n",
    "    oriClipTitles = oriFile.keys()  \n",
    "    \n",
    "    ''' copy data '''\n",
    "    for it, clipTitle in enumerate(oriClipTitles):\n",
    "        # if it > 11:\n",
    "        #     break  \n",
    "        if it % 100 == 0:\n",
    "            print(str(it) + \" finished\")\n",
    "            print('lapsed ' + str(time.time() - beg))\n",
    "        ''' add new datasets when current group exists '''\n",
    "        if clipTitle in newClipTitles:  \n",
    "            toAdd = set(oriFile[clipTitle].keys()) - set(newFile[clipTitle].keys())\n",
    "            for frameName in toAdd:\n",
    "                datasetName = clipTitle + \"/\" + frameName\n",
    "                h5py.h5o.copy(oriFile.id, datasetName, newFile.id, datasetName)\n",
    "                \n",
    "        ## \"\"\" copy the whole group when with no current clip \"\"\"\n",
    "        else:\n",
    "            h5py.h5o.copy(oriFile.id, clipTitle, newFile.id, clipTitle)\n",
    "            \n",
    "    newFile.close()\n",
    "    oriFile.close()"
   ]
  },
  {
   "cell_type": "code",
   "execution_count": 55,
   "metadata": {
    "collapsed": false
   },
   "outputs": [],
   "source": [
    "targetPath = '/data/gengshan/pose/all.h5'\n",
    "fileList = []\n",
    "fileList.append('/data/gengshan/pose/poseResult.h5')"
   ]
  },
  {
   "cell_type": "code",
   "execution_count": 56,
   "metadata": {
    "collapsed": false
   },
   "outputs": [
    {
     "name": "stdout",
     "output_type": "stream",
     "text": [
      "/data/gengshan/pose/poseResult.h5\n",
      "with 464 clips\n",
      "with 26828 frames\n",
      "0 finished\n",
      "lapsed 1.62988495827\n",
      "lapsed 3.11008501053\n"
     ]
    }
   ],
   "source": [
    "import time\n",
    "beg = time.time()\n",
    "if os.path.isfile(targetPath):\n",
    "    for it in fileList:\n",
    "        print(it)\n",
    "        mergeH5(originalPath=it, targetPath=targetPath)\n",
    "print('lapsed ' + str(time.time() - beg))"
   ]
  },
  {
   "cell_type": "code",
   "execution_count": 58,
   "metadata": {
    "collapsed": false
   },
   "outputs": [
    {
     "name": "stdout",
     "output_type": "stream",
     "text": [
      "with 62253 clips\n",
      "with 2876818 frames\n"
     ]
    }
   ],
   "source": [
    "checkKeys(targetPath)"
   ]
  },
  {
   "cell_type": "code",
   "execution_count": 90,
   "metadata": {
    "collapsed": false
   },
   "outputs": [
    {
     "ename": "AssertionError",
     "evalue": "",
     "output_type": "error",
     "traceback": [
      "\u001b[1;31m---------------------------------------------------------------------------\u001b[0m",
      "\u001b[1;31mAssertionError\u001b[0m                            Traceback (most recent call last)",
      "\u001b[1;32m<ipython-input-90-5f9236458643>\u001b[0m in \u001b[0;36m<module>\u001b[1;34m()\u001b[0m\n\u001b[0;32m      5\u001b[0m \u001b[1;33m\u001b[0m\u001b[0m\n\u001b[0;32m      6\u001b[0m \u001b[1;33m\u001b[0m\u001b[0m\n\u001b[1;32m----> 7\u001b[1;33m \u001b[1;32massert\u001b[0m\u001b[1;33m(\u001b[0m\u001b[0mlen\u001b[0m\u001b[1;33m(\u001b[0m\u001b[1;33m(\u001b[0m\u001b[0mset\u001b[0m\u001b[1;33m(\u001b[0m\u001b[0mclipTitles\u001b[0m\u001b[1;33m)\u001b[0m \u001b[1;33m-\u001b[0m \u001b[0mset\u001b[0m\u001b[1;33m(\u001b[0m\u001b[0ma\u001b[0m\u001b[1;33m.\u001b[0m\u001b[0mkeys\u001b[0m\u001b[1;33m(\u001b[0m\u001b[1;33m)\u001b[0m\u001b[1;33m)\u001b[0m\u001b[1;33m)\u001b[0m\u001b[1;33m)\u001b[0m \u001b[1;33m==\u001b[0m \u001b[1;36m0\u001b[0m\u001b[1;33m)\u001b[0m\u001b[1;33m\u001b[0m\u001b[0m\n\u001b[0m\u001b[0;32m      8\u001b[0m \u001b[0ma\u001b[0m\u001b[1;33m.\u001b[0m\u001b[0mclose\u001b[0m\u001b[1;33m(\u001b[0m\u001b[1;33m)\u001b[0m\u001b[1;33m\u001b[0m\u001b[0m\n",
      "\u001b[1;31mAssertionError\u001b[0m: "
     ]
    }
   ],
   "source": [
    "## check clip\n",
    "with open('/home/gengshan/public_html/data/clipTitles.txt') as f:\n",
    "    clipTitles = [it[:-1] for it in f.readlines()]\n",
    "a = h5py.File('/data/gengshan/pose/all.h5', 'r')\n",
    "\n",
    "assert(len((set(clipTitles) - set(a.keys()))) == 0)  \n",
    "a.close()\n",
    "\n",
    "## check image\n",
    "with open('/home/gengshan/workJul/darknet/results/comp4_det_test_person.txt', 'r') as f:\n",
    "    imgTitles = [it.split('\\t')[0].split('/')[-1][:-4] for it in f.readlines()]\n",
    "    \n",
    "a = h5py.File('/data/gengshan/pose/all.h5', 'r')\n",
    "accum = []\n",
    "for it in a.keys():\n",
    "    accum += a[it].keys()\n",
    "a.close()\n",
    "\n",
    "assert(len(set(imgTitles) - set(accum)) == 0)"
   ]
  },
  {
   "cell_type": "code",
   "execution_count": 88,
   "metadata": {
    "collapsed": false
   },
   "outputs": [
    {
     "data": {
      "text/plain": [
       "[<HDF5 dataset \"-2UZsKfaGIk_20_0000020\": shape (1, 16, 2), type \"<f4\">,\n",
       " <HDF5 dataset \"-2UZsKfaGIk_20_0000030\": shape (1, 16, 2), type \"<f4\">,\n",
       " <HDF5 dataset \"-2UZsKfaGIk_20_0000040\": shape (1, 16, 2), type \"<f4\">,\n",
       " <HDF5 dataset \"-2UZsKfaGIk_20_0000050\": shape (1, 16, 2), type \"<f4\">,\n",
       " <HDF5 dataset \"-2UZsKfaGIk_20_0000060\": shape (1, 16, 2), type \"<f4\">,\n",
       " <HDF5 dataset \"-2UZsKfaGIk_20_0000070\": shape (1, 16, 2), type \"<f4\">,\n",
       " <HDF5 dataset \"-2UZsKfaGIk_20_0000080\": shape (1, 16, 2), type \"<f4\">,\n",
       " <HDF5 dataset \"-2UZsKfaGIk_20_0000090\": shape (1, 16, 2), type \"<f4\">,\n",
       " <HDF5 dataset \"-2UZsKfaGIk_20_0000120\": shape (1, 16, 2), type \"<f4\">,\n",
       " <HDF5 dataset \"-2UZsKfaGIk_20_0000130\": shape (1, 16, 2), type \"<f4\">]"
      ]
     },
     "execution_count": 88,
     "metadata": {},
     "output_type": "execute_result"
    }
   ],
   "source": [
    "f = h5py.File(fileList[0], 'r')\n",
    "f[\"-2UZsKfaGIk_20\"].values()\n"
   ]
  },
  {
   "cell_type": "code",
   "execution_count": 85,
   "metadata": {
    "collapsed": false
   },
   "outputs": [
    {
     "data": {
      "text/plain": [
       "[<HDF5 dataset \"-2UZsKfaGIk_20_0000010\": shape (1, 16, 2), type \"<f4\">,\n",
       " <HDF5 dataset \"-2UZsKfaGIk_20_0000020\": shape (1, 16, 2), type \"<f4\">,\n",
       " <HDF5 dataset \"-2UZsKfaGIk_20_0000030\": shape (1, 16, 2), type \"<f4\">,\n",
       " <HDF5 dataset \"-2UZsKfaGIk_20_0000040\": shape (1, 16, 2), type \"<f4\">,\n",
       " <HDF5 dataset \"-2UZsKfaGIk_20_0000050\": shape (1, 16, 2), type \"<f4\">,\n",
       " <HDF5 dataset \"-2UZsKfaGIk_20_0000060\": shape (1, 16, 2), type \"<f4\">,\n",
       " <HDF5 dataset \"-2UZsKfaGIk_20_0000070\": shape (1, 16, 2), type \"<f4\">,\n",
       " <HDF5 dataset \"-2UZsKfaGIk_20_0000080\": shape (1, 16, 2), type \"<f4\">,\n",
       " <HDF5 dataset \"-2UZsKfaGIk_20_0000090\": shape (1, 16, 2), type \"<f4\">,\n",
       " <HDF5 dataset \"-2UZsKfaGIk_20_0000100\": shape (1, 16, 2), type \"<f4\">,\n",
       " <HDF5 dataset \"-2UZsKfaGIk_20_0000110\": shape (1, 16, 2), type \"<f4\">,\n",
       " <HDF5 dataset \"-2UZsKfaGIk_20_0000120\": shape (1, 16, 2), type \"<f4\">,\n",
       " <HDF5 dataset \"-2UZsKfaGIk_20_0000130\": shape (1, 16, 2), type \"<f4\">]"
      ]
     },
     "execution_count": 85,
     "metadata": {},
     "output_type": "execute_result"
    }
   ],
   "source": [
    "f[\"-2UZsKfaGIk_20\"].values()"
   ]
  },
  {
   "cell_type": "code",
   "execution_count": null,
   "metadata": {
    "collapsed": true
   },
   "outputs": [],
   "source": [
    "f.close()"
   ]
  }
 ],
 "metadata": {
  "kernelspec": {
   "display_name": "Python 2",
   "language": "python",
   "name": "python2"
  },
  "language_info": {
   "codemirror_mode": {
    "name": "ipython",
    "version": 2
   },
   "file_extension": ".py",
   "mimetype": "text/x-python",
   "name": "python",
   "nbconvert_exporter": "python",
   "pygments_lexer": "ipython2",
   "version": "2.7.6"
  }
 },
 "nbformat": 4,
 "nbformat_minor": 0
}
