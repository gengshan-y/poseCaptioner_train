{
 "cells": [
  {
   "cell_type": "code",
   "execution_count": 1,
   "metadata": {
    "collapsed": false
   },
   "outputs": [],
   "source": [
    "import h5py\n",
    "import os"
   ]
  },
  {
   "cell_type": "code",
   "execution_count": 8,
   "metadata": {
    "collapsed": false
   },
   "outputs": [],
   "source": [
    "def checkKeys(h5Path):\n",
    "    h5File = h5py.File(h5Path, 'r')\n",
    "    print('with ' + str(len(h5File.keys())) + ' clips')\n",
    "    \n",
    "    accum = 0\n",
    "    for it in h5File.keys():\n",
    "        accum += len(h5File[it].keys())\n",
    "    print('with ' + str(accum) + ' frames')\n",
    "    h5File.close()"
   ]
  },
  {
   "cell_type": "code",
   "execution_count": 26,
   "metadata": {
    "collapsed": false
   },
   "outputs": [],
   "source": [
    "''' merge the original h5 file to the target h5 file, using append mode '''\n",
    "def mergeH5(originalPath, targetPath):\n",
    "    newFile = h5py.File(targetPath)  # use 'a' may cause error, use default append instead\n",
    "    oriFile = h5py.File(originalPath, 'r')  \n",
    "    for it, clipTitle in enumerate(oriFile.keys()):\n",
    "        # if it > 11:\n",
    "        #     break\n",
    "            \n",
    "        ''' add new datasets when current group exists '''\n",
    "        if clipTitle in newFile.keys():\n",
    "            toAdd = set(oriFile[clipTitle].keys()) - set(newFile[clipTitle].keys())\n",
    "            for frameName in toAdd:\n",
    "                datasetName = clipTitle + \"/\" + frameName\n",
    "                h5py.h5o.copy(oriFile.id, datasetName, newFile.id, datasetName)\n",
    "                \n",
    "        ## \"\"\" copy the whole group when with no current clip \"\"\"\n",
    "        else:\n",
    "            h5py.h5o.copy(oriFile.id, clipTitle, newFile.id, clipTitle)\n",
    "            \n",
    "    newFile.close()\n",
    "    oriFile.close()"
   ]
  },
  {
   "cell_type": "code",
   "execution_count": 27,
   "metadata": {
    "collapsed": false
   },
   "outputs": [],
   "source": [
    "targetPath = '/data/gengshan/pose/all.h5'\n",
    "fileList = []\n",
    "fileList.append('/data/gengshan/pose/500k-1m1.h5')\n",
    "fileList.append('/data/gengshan/pose/500k-1m2.h5')"
   ]
  },
  {
   "cell_type": "code",
   "execution_count": 28,
   "metadata": {
    "collapsed": false
   },
   "outputs": [],
   "source": [
    "os.path.isfile(targetPath)\n",
    "for it in fileList:\n",
    "    mergeH5(originalPath=it, targetPath=targetPath)"
   ]
  },
  {
   "cell_type": "code",
   "execution_count": 29,
   "metadata": {
    "collapsed": false
   },
   "outputs": [
    {
     "name": "stdout",
     "output_type": "stream",
     "text": [
      "with 32752 clips\n",
      "with 1522310 frames\n",
      "with 10482 clips\n",
      "with 251020 frames\n",
      "with 10478 clips\n",
      "with 248980 frames\n"
     ]
    }
   ],
   "source": [
    "checkKeys('/data/gengshan/pose/all.h5')\n",
    "for it in fileList:\n",
    "    checkKeys(it)"
   ]
  },
  {
   "cell_type": "code",
   "execution_count": 23,
   "metadata": {
    "collapsed": false
   },
   "outputs": [],
   "source": [
    "a = h5py.File('/data/gengshan/pose/all.h5')"
   ]
  },
  {
   "cell_type": "code",
   "execution_count": 24,
   "metadata": {
    "collapsed": false
   },
   "outputs": [
    {
     "data": {
      "text/plain": [
       "<HDF5 file \"all.h5\" (mode r+)>"
      ]
     },
     "execution_count": 24,
     "metadata": {},
     "output_type": "execute_result"
    }
   ],
   "source": [
    "a"
   ]
  },
  {
   "cell_type": "code",
   "execution_count": 25,
   "metadata": {
    "collapsed": false
   },
   "outputs": [
    {
     "data": {
      "text/plain": [
       "<bound method File.close of <HDF5 file \"all.h5\" (mode r+)>>"
      ]
     },
     "execution_count": 25,
     "metadata": {},
     "output_type": "execute_result"
    }
   ],
   "source": [
    "a.close"
   ]
  },
  {
   "cell_type": "code",
   "execution_count": 88,
   "metadata": {
    "collapsed": false
   },
   "outputs": [
    {
     "data": {
      "text/plain": [
       "[<HDF5 dataset \"-2UZsKfaGIk_20_0000020\": shape (1, 16, 2), type \"<f4\">,\n",
       " <HDF5 dataset \"-2UZsKfaGIk_20_0000030\": shape (1, 16, 2), type \"<f4\">,\n",
       " <HDF5 dataset \"-2UZsKfaGIk_20_0000040\": shape (1, 16, 2), type \"<f4\">,\n",
       " <HDF5 dataset \"-2UZsKfaGIk_20_0000050\": shape (1, 16, 2), type \"<f4\">,\n",
       " <HDF5 dataset \"-2UZsKfaGIk_20_0000060\": shape (1, 16, 2), type \"<f4\">,\n",
       " <HDF5 dataset \"-2UZsKfaGIk_20_0000070\": shape (1, 16, 2), type \"<f4\">,\n",
       " <HDF5 dataset \"-2UZsKfaGIk_20_0000080\": shape (1, 16, 2), type \"<f4\">,\n",
       " <HDF5 dataset \"-2UZsKfaGIk_20_0000090\": shape (1, 16, 2), type \"<f4\">,\n",
       " <HDF5 dataset \"-2UZsKfaGIk_20_0000120\": shape (1, 16, 2), type \"<f4\">,\n",
       " <HDF5 dataset \"-2UZsKfaGIk_20_0000130\": shape (1, 16, 2), type \"<f4\">]"
      ]
     },
     "execution_count": 88,
     "metadata": {},
     "output_type": "execute_result"
    }
   ],
   "source": [
    "f = h5py.File(fileList[0], 'r')\n",
    "f[\"-2UZsKfaGIk_20\"].values()\n"
   ]
  },
  {
   "cell_type": "code",
   "execution_count": 85,
   "metadata": {
    "collapsed": false
   },
   "outputs": [
    {
     "data": {
      "text/plain": [
       "[<HDF5 dataset \"-2UZsKfaGIk_20_0000010\": shape (1, 16, 2), type \"<f4\">,\n",
       " <HDF5 dataset \"-2UZsKfaGIk_20_0000020\": shape (1, 16, 2), type \"<f4\">,\n",
       " <HDF5 dataset \"-2UZsKfaGIk_20_0000030\": shape (1, 16, 2), type \"<f4\">,\n",
       " <HDF5 dataset \"-2UZsKfaGIk_20_0000040\": shape (1, 16, 2), type \"<f4\">,\n",
       " <HDF5 dataset \"-2UZsKfaGIk_20_0000050\": shape (1, 16, 2), type \"<f4\">,\n",
       " <HDF5 dataset \"-2UZsKfaGIk_20_0000060\": shape (1, 16, 2), type \"<f4\">,\n",
       " <HDF5 dataset \"-2UZsKfaGIk_20_0000070\": shape (1, 16, 2), type \"<f4\">,\n",
       " <HDF5 dataset \"-2UZsKfaGIk_20_0000080\": shape (1, 16, 2), type \"<f4\">,\n",
       " <HDF5 dataset \"-2UZsKfaGIk_20_0000090\": shape (1, 16, 2), type \"<f4\">,\n",
       " <HDF5 dataset \"-2UZsKfaGIk_20_0000100\": shape (1, 16, 2), type \"<f4\">,\n",
       " <HDF5 dataset \"-2UZsKfaGIk_20_0000110\": shape (1, 16, 2), type \"<f4\">,\n",
       " <HDF5 dataset \"-2UZsKfaGIk_20_0000120\": shape (1, 16, 2), type \"<f4\">,\n",
       " <HDF5 dataset \"-2UZsKfaGIk_20_0000130\": shape (1, 16, 2), type \"<f4\">]"
      ]
     },
     "execution_count": 85,
     "metadata": {},
     "output_type": "execute_result"
    }
   ],
   "source": [
    "f[\"-2UZsKfaGIk_20\"].values()"
   ]
  },
  {
   "cell_type": "code",
   "execution_count": null,
   "metadata": {
    "collapsed": true
   },
   "outputs": [],
   "source": [
    "f.close()"
   ]
  }
 ],
 "metadata": {
  "kernelspec": {
   "display_name": "Python 2",
   "language": "python",
   "name": "python2"
  },
  "language_info": {
   "codemirror_mode": {
    "name": "ipython",
    "version": 2
   },
   "file_extension": ".py",
   "mimetype": "text/x-python",
   "name": "python",
   "nbconvert_exporter": "python",
   "pygments_lexer": "ipython2",
   "version": "2.7.6"
  }
 },
 "nbformat": 4,
 "nbformat_minor": 0
}
